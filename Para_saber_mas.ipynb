{
 "cells": [
  {
   "cell_type": "markdown",
   "id": "d8fd70de",
   "metadata": {},
   "source": [
    "# Bloque 1"
   ]
  },
  {
   "cell_type": "markdown",
   "id": "d76f8e1a",
   "metadata": {},
   "source": [
    "## ¿qué es Machine Learning?"
   ]
  },
  {
   "cell_type": "markdown",
   "id": "c4b8c296",
   "metadata": {},
   "source": [
    "El **Inteligencia Artificial (IA)** se ha destacado como una de las áreas de mayor crecimiento y visibilidad en los últimos años. Es un campo de estudio amplio que abarca diversas áreas del conocimiento, tanto prácticas como teóricas, incluyendo la ciencia de la computación, la ciencia cognitiva, la filosofía de la mente y el **Machine Learning** (Aprendizaje Automático).\n",
    "\n",
    "El Machine Learning (ML), como una subárea de la inteligencia artificial, se concentra en el desarrollo de **algoritmos** que son utilizados en la computadora para realizar tareas sin la necesidad de programar explícitamente las reglas que se utilizarán. Estos algoritmos basan sus decisiones a partir de datos con el objetivo de comprender e identificar el patrón existente en esos datos, para luego utilizar ese conocimiento en la realización de predicciones.\n",
    "\n",
    "**Cómo funciona el Machine Learning**\n",
    "\n",
    "El funcionamiento del Machine Learning tiene 3 etapas principales:\n",
    "\n",
    "**1 - Recolección de datos**\n",
    "\n",
    "La primera etapa de un proyecto de ML es la extracción o recolección de datos. Los datos son esenciales y pueden considerarse la materia prima de los algoritmos. La cantidad y calidad de estos datos tienen un impacto muy grande en el aprendizaje de los modelos. Con pocos datos, el modelo puede no tener información suficiente para aprender. Con datos de poca calidad, el modelo puede no ser capaz de diferenciar bien el patrón de los datos o comprender el patrón de manera diferente a lo que ocurre con los datos del mundo real.\n",
    "\n",
    "**2 - Entrenamiento de los modelos**\n",
    "\n",
    "Después de recolectar datos y asegurar que tienen calidad, se llega a la etapa de entrenar los modelos. El entrenamiento consiste en que el algoritmo busque el patrón presente en los datos y construya una regla para tomar decisiones posteriormente en nuevos datos.\n",
    "\n",
    "**3 - Evaluación**\n",
    "\n",
    "Con el modelo entrenado, se llega a la etapa de evaluar el desempeño del modelo, para identificar si realmente aprendió el patrón de los datos y si es capaz de aplicar de forma satisfactoria la regla generada por el algoritmo en datos nuevos, que no fueron utilizados durante el momento del entrenamiento.\n",
    "\n",
    "A pesar de ser las etapas principales, estas no son las únicas tareas presentes en proyectos de Machine Learning. Cada proyecto tiene sus propias características, ya sea por el formato y naturaleza de los datos, el tipo de aplicación o los desafíos encontrados a lo largo del proceso."
   ]
  }
 ],
 "metadata": {
  "language_info": {
   "name": "python"
  }
 },
 "nbformat": 4,
 "nbformat_minor": 5
}
