{
 "cells": [
  {
   "cell_type": "markdown",
   "id": "f72d2095",
   "metadata": {},
   "source": [
    "# Bloque 1 - Distribucion Binomial"
   ]
  },
  {
   "cell_type": "markdown",
   "id": "35f8e421",
   "metadata": {},
   "source": [
    "## Conociendo el amiente y el dataset"
   ]
  },
  {
   "cell_type": "code",
   "execution_count": null,
   "id": "e0904578",
   "metadata": {},
   "outputs": [],
   "source": [
    "import pandas as pd\n",
    "import  numpy as np\n",
    "import scipy\n",
    "import matplotlib\n",
    "import chardet\n",
    "from scipy.stats import binom\n",
    "from scipy.special import comb"
   ]
  },
  {
   "cell_type": "code",
   "execution_count": 5,
   "id": "91abf22d",
   "metadata": {},
   "outputs": [
    {
     "name": "stdout",
     "output_type": "stream",
     "text": [
      "{'encoding': 'ISO-8859-1', 'confidence': 0.73, 'language': ''}\n"
     ]
    }
   ],
   "source": [
    "with open(\"datos.csv\", \"rb\") as f:\n",
    "    result = chardet.detect(f.read(10000))  # Lee los primeros 10000 bytes\n",
    "    print(result)"
   ]
  },
  {
   "cell_type": "code",
   "execution_count": 6,
   "id": "e3e24469",
   "metadata": {},
   "outputs": [],
   "source": [
    "datos = pd.read_csv('datos.csv', encoding='ISO-8859-1')"
   ]
  },
  {
   "cell_type": "code",
   "execution_count": 7,
   "id": "6815f218",
   "metadata": {},
   "outputs": [
    {
     "data": {
      "text/html": [
       "<div>\n",
       "<style scoped>\n",
       "    .dataframe tbody tr th:only-of-type {\n",
       "        vertical-align: middle;\n",
       "    }\n",
       "\n",
       "    .dataframe tbody tr th {\n",
       "        vertical-align: top;\n",
       "    }\n",
       "\n",
       "    .dataframe thead th {\n",
       "        text-align: right;\n",
       "    }\n",
       "</style>\n",
       "<table border=\"1\" class=\"dataframe\">\n",
       "  <thead>\n",
       "    <tr style=\"text-align: right;\">\n",
       "      <th></th>\n",
       "      <th>Ciudad</th>\n",
       "      <th>Sexo</th>\n",
       "      <th>Edad</th>\n",
       "      <th>Color</th>\n",
       "      <th>Años de Estudio</th>\n",
       "      <th>Ingreso</th>\n",
       "      <th>Altura</th>\n",
       "    </tr>\n",
       "  </thead>\n",
       "  <tbody>\n",
       "    <tr>\n",
       "      <th>0</th>\n",
       "      <td>11</td>\n",
       "      <td>0</td>\n",
       "      <td>23</td>\n",
       "      <td>8</td>\n",
       "      <td>12</td>\n",
       "      <td>800</td>\n",
       "      <td>1.603808</td>\n",
       "    </tr>\n",
       "    <tr>\n",
       "      <th>1</th>\n",
       "      <td>11</td>\n",
       "      <td>1</td>\n",
       "      <td>23</td>\n",
       "      <td>2</td>\n",
       "      <td>12</td>\n",
       "      <td>1150</td>\n",
       "      <td>1.739790</td>\n",
       "    </tr>\n",
       "    <tr>\n",
       "      <th>2</th>\n",
       "      <td>11</td>\n",
       "      <td>1</td>\n",
       "      <td>35</td>\n",
       "      <td>8</td>\n",
       "      <td>15</td>\n",
       "      <td>880</td>\n",
       "      <td>1.760444</td>\n",
       "    </tr>\n",
       "    <tr>\n",
       "      <th>3</th>\n",
       "      <td>11</td>\n",
       "      <td>0</td>\n",
       "      <td>46</td>\n",
       "      <td>2</td>\n",
       "      <td>6</td>\n",
       "      <td>3500</td>\n",
       "      <td>1.783158</td>\n",
       "    </tr>\n",
       "    <tr>\n",
       "      <th>4</th>\n",
       "      <td>11</td>\n",
       "      <td>1</td>\n",
       "      <td>47</td>\n",
       "      <td>8</td>\n",
       "      <td>9</td>\n",
       "      <td>150</td>\n",
       "      <td>1.690631</td>\n",
       "    </tr>\n",
       "  </tbody>\n",
       "</table>\n",
       "</div>"
      ],
      "text/plain": [
       "   Ciudad  Sexo  Edad  Color  Años de Estudio  Ingreso    Altura\n",
       "0      11     0    23      8               12      800  1.603808\n",
       "1      11     1    23      2               12     1150  1.739790\n",
       "2      11     1    35      8               15      880  1.760444\n",
       "3      11     0    46      2                6     3500  1.783158\n",
       "4      11     1    47      8                9      150  1.690631"
      ]
     },
     "execution_count": 7,
     "metadata": {},
     "output_type": "execute_result"
    }
   ],
   "source": [
    "datos.head()"
   ]
  },
  {
   "cell_type": "code",
   "execution_count": 8,
   "id": "b14d118b",
   "metadata": {},
   "outputs": [
    {
     "name": "stdout",
     "output_type": "stream",
     "text": [
      "<class 'pandas.core.frame.DataFrame'>\n",
      "RangeIndex: 76840 entries, 0 to 76839\n",
      "Data columns (total 7 columns):\n",
      " #   Column           Non-Null Count  Dtype  \n",
      "---  ------           --------------  -----  \n",
      " 0   Ciudad           76840 non-null  int64  \n",
      " 1   Sexo             76840 non-null  int64  \n",
      " 2   Edad             76840 non-null  int64  \n",
      " 3   Color            76840 non-null  int64  \n",
      " 4   Años de Estudio  76840 non-null  int64  \n",
      " 5   Ingreso          76840 non-null  int64  \n",
      " 6   Altura           76840 non-null  float64\n",
      "dtypes: float64(1), int64(6)\n",
      "memory usage: 4.1 MB\n"
     ]
    }
   ],
   "source": [
    "datos.info()"
   ]
  },
  {
   "cell_type": "markdown",
   "id": "c96011b1",
   "metadata": {},
   "source": [
    "### Problema 1"
   ]
  },
  {
   "cell_type": "markdown",
   "id": "486a471e",
   "metadata": {},
   "source": [
    "En una competencia para ocupar un puesto de científico de datos, tenemos un total de **10 preguntas** de opción múltiple con **3 alternativas posibles** en cada pregunta. **Cada pregunta tiene el mismo valor.** Suponga que un candidato decide aventurarse sin haber estudiado nada. Decide hacer la prueba con los ojos vendados y adivinar todas las respuestas. Suponiendo que la prueba **vale 10 puntos y la puntuación de corte es 5**, obtenga la probabilidad de que este candidato **acierte 5 preguntas** y también la probabilidad de que el candidato **pase a la siguiente etapa del proceso de selección**."
   ]
  },
  {
   "cell_type": "code",
   "execution_count": 9,
   "id": "0a57063b",
   "metadata": {},
   "outputs": [],
   "source": [
    "from scipy.special import comb"
   ]
  },
  {
   "cell_type": "code",
   "execution_count": 10,
   "id": "a121b5a2",
   "metadata": {},
   "outputs": [
    {
     "name": "stdout",
     "output_type": "stream",
     "text": [
      "50063860.0\n"
     ]
    }
   ],
   "source": [
    "combinaciones = comb(60, 6)\n",
    "print(round(combinaciones,2))"
   ]
  },
  {
   "cell_type": "code",
   "execution_count": 23,
   "id": "48a3bec3",
   "metadata": {},
   "outputs": [
    {
     "name": "stdout",
     "output_type": "stream",
     "text": [
      "0.000000019974489\n"
     ]
    }
   ],
   "source": [
    "probabilidad = 1 / combinaciones\n",
    "print(f'{probabilidad:0.15f}')"
   ]
  },
  {
   "cell_type": "markdown",
   "id": "791983b6",
   "metadata": {},
   "source": [
    "Cantidad de pruebas n"
   ]
  },
  {
   "cell_type": "code",
   "execution_count": 24,
   "id": "b1cdbfb8",
   "metadata": {},
   "outputs": [
    {
     "data": {
      "text/plain": [
       "10"
      ]
     },
     "execution_count": 24,
     "metadata": {},
     "output_type": "execute_result"
    }
   ],
   "source": [
    "n = 10\n",
    "n"
   ]
  },
  {
   "cell_type": "markdown",
   "id": "6e1125dc",
   "metadata": {},
   "source": [
    "probabilidad de exito p"
   ]
  },
  {
   "cell_type": "code",
   "execution_count": 25,
   "id": "d3d53c2e",
   "metadata": {},
   "outputs": [
    {
     "data": {
      "text/plain": [
       "0.3333333333333333"
      ]
     },
     "execution_count": 25,
     "metadata": {},
     "output_type": "execute_result"
    }
   ],
   "source": [
    "numero_De_alternativad_por_pregunta = 3\n",
    "p = 1 / numero_De_alternativad_por_pregunta\n",
    "p"
   ]
  },
  {
   "cell_type": "markdown",
   "id": "538be2da",
   "metadata": {},
   "source": [
    "probabilidad de fracaso q"
   ]
  },
  {
   "cell_type": "code",
   "execution_count": 26,
   "id": "4edcb588",
   "metadata": {},
   "outputs": [
    {
     "data": {
      "text/plain": [
       "0.6666666666666667"
      ]
     },
     "execution_count": 26,
     "metadata": {},
     "output_type": "execute_result"
    }
   ],
   "source": [
    "q = 1 - p\n",
    "q"
   ]
  },
  {
   "cell_type": "markdown",
   "id": "3d867bf8",
   "metadata": {},
   "source": [
    "numero total de eventos para tener exito k"
   ]
  },
  {
   "cell_type": "code",
   "execution_count": 28,
   "id": "2c3ac069",
   "metadata": {},
   "outputs": [
    {
     "data": {
      "text/plain": [
       "5"
      ]
     },
     "execution_count": 28,
     "metadata": {},
     "output_type": "execute_result"
    }
   ],
   "source": [
    "k = 5\n",
    "k"
   ]
  },
  {
   "cell_type": "markdown",
   "id": "be9ea932",
   "metadata": {},
   "source": [
    "### Fórmula de la probabilidad binomial"
   ]
  },
  {
   "cell_type": "markdown",
   "id": "00c92a89",
   "metadata": {},
   "source": [
    "La fórmula para calcular la probabilidad binomial es:\n",
    "\n",
    "$$P(k)=\\binom{n}{k} p^k q^{n-k}$$\n",
    "\n",
    "Donde:\n",
    "\n",
    "- $p$ = probabilidad de éxito\n",
    "\n",
    "- $q = (1 - p)$ = probabilidad de fracaso\n",
    "\n",
    "- $n$ = número de eventos estudiados\n",
    "\n",
    "- $k$ = número de eventos deseados que tienen éxito"
   ]
  },
  {
   "cell_type": "markdown",
   "id": "25789015",
   "metadata": {},
   "source": [
    "solucion 1"
   ]
  },
  {
   "cell_type": "code",
   "execution_count": 30,
   "id": "0bf8d34c",
   "metadata": {},
   "outputs": [
    {
     "name": "stdout",
     "output_type": "stream",
     "text": [
      "0.13656455\n"
     ]
    }
   ],
   "source": [
    "# el metodo comb es para calcular coeficientes binomiales\n",
    "probabilidad = (comb(10,5) * (p ** k) * (q ** (n - k)))\n",
    "print(f'{probabilidad:.8f}')"
   ]
  },
  {
   "cell_type": "markdown",
   "id": "5b60bac3",
   "metadata": {},
   "source": [
    "13.65 %"
   ]
  },
  {
   "cell_type": "markdown",
   "id": "3b558c45",
   "metadata": {},
   "source": [
    "### forma facil de resolver la probabilidad binomial"
   ]
  },
  {
   "cell_type": "code",
   "execution_count": 34,
   "id": "fad7a86b",
   "metadata": {},
   "outputs": [],
   "source": [
    "from scipy.stats import binom"
   ]
  },
  {
   "cell_type": "code",
   "execution_count": 35,
   "id": "855b9cef",
   "metadata": {},
   "outputs": [
    {
     "name": "stdout",
     "output_type": "stream",
     "text": [
      "0.13656455\n"
     ]
    }
   ],
   "source": [
    "probabilidad = binom.pmf(k,n,p)\n",
    "print(f'{probabilidad:.8f}')"
   ]
  },
  {
   "cell_type": "markdown",
   "id": "3824d7cf",
   "metadata": {},
   "source": [
    "### obtener la probabilidad de que el candidato apruebe"
   ]
  },
  {
   "cell_type": "code",
   "execution_count": 36,
   "id": "a3fc6c2c",
   "metadata": {},
   "outputs": [
    {
     "data": {
      "text/plain": [
       "np.float64(0.21312808006909476)"
      ]
     },
     "execution_count": 36,
     "metadata": {},
     "output_type": "execute_result"
    }
   ],
   "source": [
    "binom.pmf(5,n,p) + binom.pmf(6,n,p) + binom.pmf(7,n,p) + binom.pmf(8,n,p) + binom.pmf(9,n,p) + binom.pmf(10,n,p)"
   ]
  },
  {
   "cell_type": "code",
   "execution_count": 39,
   "id": "4e5ee7b3",
   "metadata": {},
   "outputs": [
    {
     "data": {
      "text/plain": [
       "np.float64(0.21312808006909476)"
      ]
     },
     "execution_count": 39,
     "metadata": {},
     "output_type": "execute_result"
    }
   ],
   "source": [
    "binom.pmf([5,6,7,8,9,10],n,p).sum()"
   ]
  },
  {
   "cell_type": "code",
   "execution_count": 43,
   "id": "7cad6a51",
   "metadata": {},
   "outputs": [
    {
     "data": {
      "text/plain": [
       "np.float64(0.21312808006909523)"
      ]
     },
     "execution_count": 43,
     "metadata": {},
     "output_type": "execute_result"
    }
   ],
   "source": [
    "1-binom.cdf(4,n,p)"
   ]
  },
  {
   "cell_type": "code",
   "execution_count": 44,
   "id": "56fed8a5",
   "metadata": {},
   "outputs": [
    {
     "data": {
      "text/plain": [
       "np.float64(0.21312808006909525)"
      ]
     },
     "execution_count": 44,
     "metadata": {},
     "output_type": "execute_result"
    }
   ],
   "source": [
    "binom.sf(4,n,p)"
   ]
  }
 ],
 "metadata": {
  "kernelspec": {
   "display_name": "Python 3",
   "language": "python",
   "name": "python3"
  },
  "language_info": {
   "codemirror_mode": {
    "name": "ipython",
    "version": 3
   },
   "file_extension": ".py",
   "mimetype": "text/x-python",
   "name": "python",
   "nbconvert_exporter": "python",
   "pygments_lexer": "ipython3",
   "version": "3.11.9"
  }
 },
 "nbformat": 4,
 "nbformat_minor": 5
}
