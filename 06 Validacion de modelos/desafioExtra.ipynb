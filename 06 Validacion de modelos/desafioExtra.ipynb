{
 "cells": [
  {
   "cell_type": "markdown",
   "id": "7347506a",
   "metadata": {},
   "source": [
    "# Bloque 1 - clasificando datos"
   ]
  },
  {
   "cell_type": "markdown",
   "id": "61ed30d3",
   "metadata": {},
   "source": [
    "## construyendo un segundo modelo modeloRandomTree()"
   ]
  },
  {
   "cell_type": "markdown",
   "id": "0c0957c5",
   "metadata": {},
   "source": [
    "Se recomienda utilizar más de un modelo de clasificación en proyectos de machine learning, para que se comparen los resultados y se elija aquel modelo que tenga un mejor desempeño, después de todos los análisis y mejoras.\n",
    "\n",
    "Utilizamos durante la clase el algoritmo de árbol de decisión, pero la biblioteca Scikit-Learn tiene varios otros métodos de clasificación que pueden ser utilizados en nuestro proyecto. Como desafío, utiliza el algoritmo Random Forest para crear un modelo y evaluar el desempeño con la precisión y la matriz de confusión, y compara los resultados con el resultado del árbol de decisión.\n",
    "\n",
    "Como un consejo, revisa la documentación del algoritmo [RandomForestClassifier](https://scikit-learn.org/stable/modules/generated/sklearn.ensemble.RandomForestClassifier.html#sklearn.ensemble.RandomForestClassifier). Explora este material y observa cómo importar la función. Durante este proceso, recuerda verificar los parámetros del método para evitar que el modelo se ajuste demasiado a los datos de entrenamiento."
   ]
  },
  {
   "cell_type": "code",
   "execution_count": 1,
   "id": "a5f32504",
   "metadata": {},
   "outputs": [],
   "source": [
    "import pandas as pd\n",
    "from sklearn.ensemble import RandomForestClassifier"
   ]
  },
  {
   "cell_type": "code",
   "execution_count": 2,
   "id": "f1d2e149",
   "metadata": {},
   "outputs": [],
   "source": [
    "df = pd.read_csv('prestacar.csv')"
   ]
  },
  {
   "cell_type": "code",
   "execution_count": 3,
   "id": "4f79160b",
   "metadata": {},
   "outputs": [],
   "source": [
    "X = df.drop(columns='moroso',axis=1)\n",
    "y = df.moroso"
   ]
  },
  {
   "cell_type": "code",
   "execution_count": 4,
   "id": "8ea4c310",
   "metadata": {},
   "outputs": [
    {
     "data": {
      "text/plain": [
       "0.9999259602036095"
      ]
     },
     "execution_count": 4,
     "metadata": {},
     "output_type": "execute_result"
    }
   ],
   "source": [
    "modeloRandomTree = RandomForestClassifier()\n",
    "modeloRandomTree.fit(X,y)\n",
    "modeloRandomTree.score(X,y)"
   ]
  },
  {
   "cell_type": "code",
   "execution_count": 5,
   "id": "da43bbb5",
   "metadata": {},
   "outputs": [
    {
     "name": "stdout",
     "output_type": "stream",
     "text": [
      "La exactitud del modelo es: 0.9999259602036095\n"
     ]
    }
   ],
   "source": [
    "print(f'La exactitud del modelo es: {modeloRandomTree.score(X,y)}')"
   ]
  },
  {
   "cell_type": "code",
   "execution_count": 6,
   "id": "c03ff455",
   "metadata": {},
   "outputs": [],
   "source": [
    "from sklearn.model_selection import train_test_split"
   ]
  },
  {
   "cell_type": "code",
   "execution_count": 7,
   "id": "56c129b7",
   "metadata": {},
   "outputs": [],
   "source": [
    "X,X_test,y,y_test = train_test_split(X,y,test_size=0.15,stratify=y,random_state=5)\n",
    "X_train,X_val,y_train,y_val = train_test_split(X,y,stratify=y,random_state=5)"
   ]
  },
  {
   "cell_type": "code",
   "execution_count": 8,
   "id": "c6c91ca0",
   "metadata": {},
   "outputs": [
    {
     "name": "stdout",
     "output_type": "stream",
     "text": [
      "La exactitud del modelo en entrenamiento es: 0.9998548199767712\n",
      "La exactitud del modelo en validacion es: 0.9155996864384636\n"
     ]
    }
   ],
   "source": [
    "modeloRandomTree = RandomForestClassifier()\n",
    "modeloRandomTree.fit(X_train,y_train)\n",
    "print(f'La exactitud del modelo en entrenamiento es: {modeloRandomTree.score(X_train,y_train)}')\n",
    "print(f'La exactitud del modelo en validacion es: {modeloRandomTree.score(X_val,y_val)}')"
   ]
  },
  {
   "cell_type": "code",
   "execution_count": 9,
   "id": "dc029631",
   "metadata": {},
   "outputs": [],
   "source": [
    "from sklearn.metrics import confusion_matrix"
   ]
  },
  {
   "cell_type": "code",
   "execution_count": 10,
   "id": "c9b7ca39",
   "metadata": {},
   "outputs": [
    {
     "name": "stdout",
     "output_type": "stream",
     "text": [
      "[[10458    21]\n",
      " [  948    54]]\n"
     ]
    }
   ],
   "source": [
    "y_previsto = modeloRandomTree.predict(X_val)\n",
    "matriz_confusion = confusion_matrix(y_val,y_previsto)\n",
    "print(matriz_confusion)"
   ]
  },
  {
   "cell_type": "code",
   "execution_count": 11,
   "id": "0ddc4be4",
   "metadata": {},
   "outputs": [],
   "source": [
    "from sklearn.metrics import ConfusionMatrixDisplay"
   ]
  },
  {
   "cell_type": "code",
   "execution_count": 12,
   "id": "7bfb33f4",
   "metadata": {},
   "outputs": [
    {
     "data": {
      "image/png": "[encoded data removed]",
      "text/plain": [
       "<Figure size 640x480 with 2 Axes>"
      ]
     },
     "metadata": {},
     "output_type": "display_data"
    }
   ],
   "source": [
    "visualizacion = ConfusionMatrixDisplay(confusion_matrix = matriz_confusion, display_labels=['Cumplido', 'Moroso'])\n",
    "visualizacion.plot();"
   ]
  },
  {
   "cell_type": "markdown",
   "id": "9447b171",
   "metadata": {},
   "source": [
    "## DecisionTreeClassifier"
   ]
  },
  {
   "cell_type": "markdown",
   "id": "bf6eaf9e",
   "metadata": {},
   "source": [
    "<a href=\"https://ibb.co/351SbY7t\"><img src=\"https://i.ibb.co/wZypqrRD/matriz-confusion.png\" alt=\"matriz-confusion\" border=\"0\"></a>"
   ]
  },
  {
   "cell_type": "markdown",
   "id": "837c2e56",
   "metadata": {},
   "source": [
    "## como comparar"
   ]
  },
  {
   "cell_type": "markdown",
   "id": "f8e414ca",
   "metadata": {},
   "source": [
    "- **TN (True Negative)**: Negativos bien clasificados.\n",
    "\n",
    "- **FP (False Positive)**: Negativos mal clasificados como positivos.\n",
    "\n",
    "- **FN (False Negative)**: Positivos mal clasificados como negativos.\n",
    "\n",
    "- **TP (True Positive)**: Positivos bien clasificados."
   ]
  },
  {
   "cell_type": "markdown",
   "id": "2f228d46",
   "metadata": {},
   "source": [
    "Ok, vamos a compararlos paso a paso.\n",
    "\n",
    "---\n",
    "\n",
    "## 📊 **Matrices de confusión**\n",
    "\n",
    "Formato:\n",
    "\n",
    "```\n",
    "[[TN  FP]\n",
    " [FN  TP]]\n",
    "```\n",
    "\n",
    "* **TN (True Negative):** Negativos bien clasificados.\n",
    "* **FP (False Positive):** Negativos mal clasificados como positivos.\n",
    "* **FN (False Negative):** Positivos mal clasificados como negativos.\n",
    "* **TP (True Positive):** Positivos bien clasificados.\n",
    "\n",
    "---\n",
    "\n",
    "### **Modelo 1**\n",
    "\n",
    "```\n",
    "[[10363   116]\n",
    " [  960    42]]\n",
    "```\n",
    "\n",
    "* TN = 10363\n",
    "* FP = 116\n",
    "* FN = 960\n",
    "* TP = 42\n",
    "\n",
    "**Métricas:**\n",
    "\n",
    "* **Precisión (accuracy):**\n",
    "\n",
    "  $$\n",
    "  \\frac{TN + TP}{Total} = \\frac{10363 + 42}{10363+116+960+42} \n",
    "  = \\frac{10405}{11481} \\approx 0.906\n",
    "  $$\n",
    "\n",
    "  → **90.6%**\n",
    "\n",
    "* **Recall (sensibilidad, clase positiva):**\n",
    "\n",
    "  $$\n",
    "  \\frac{TP}{TP + FN} = \\frac{42}{42+960} \\approx 0.041\n",
    "  $$\n",
    "\n",
    "  → **4.1%**\n",
    "\n",
    "* **Precisión (precision, clase positiva):**\n",
    "\n",
    "  $$\n",
    "  \\frac{TP}{TP + FP} = \\frac{42}{42+116} \\approx 0.266\n",
    "  $$\n",
    "\n",
    "  → **26.6%**\n",
    "\n",
    "---\n",
    "\n",
    "### **Modelo 2**\n",
    "\n",
    "```\n",
    "[[8890   16]\n",
    " [ 806   46]]\n",
    "```\n",
    "\n",
    "* TN = 8890\n",
    "* FP = 16\n",
    "* FN = 806\n",
    "* TP = 46\n",
    "\n",
    "**Métricas:**\n",
    "\n",
    "* **Precisión (accuracy):**\n",
    "\n",
    "  $$\n",
    "  \\frac{TN + TP}{Total} = \\frac{8890 + 46}{8890+16+806+46} \n",
    "  = \\frac{8936}{9758} \\approx 0.915\n",
    "  $$\n",
    "\n",
    "  → **91.5%**\n",
    "\n",
    "* **Recall (sensibilidad, clase positiva):**\n",
    "\n",
    "  $$\n",
    "  \\frac{TP}{TP + FN} = \\frac{46}{46+806} \\approx 0.054\n",
    "  $$\n",
    "\n",
    "  → **5.4%**\n",
    "\n",
    "* **Precisión (precision, clase positiva):**\n",
    "\n",
    "  $$\n",
    "  \\frac{TP}{TP + FP} = \\frac{46}{46+16} \\approx 0.742\n",
    "  $$\n",
    "\n",
    "  → **74.2%**\n",
    "\n",
    "---\n",
    "\n",
    "## 📈 Comparación\n",
    "\n",
    "| Métrica       | Modelo 1 | Modelo 2  | Mejor    |\n",
    "| ------------- | -------- | --------- | -------- |\n",
    "| Accuracy      | 90.6%    | **91.5%** | Modelo 2 |\n",
    "| Recall (+)    | 4.1%     | **5.4%**  | Modelo 2 |\n",
    "| Precision (+) | 26.6%    | **74.2%** | Modelo 2 |\n",
    "\n",
    "---\n",
    "\n",
    "## 💡 **Conclusión**\n",
    "\n",
    "**El Modelo 2 es mejor**, porque:\n",
    "\n",
    "* Tiene **mayor accuracy**.\n",
    "* Detecta **más verdaderos positivos** (mayor recall).\n",
    "* Sus predicciones positivas son mucho más confiables (precision altísima de 74.2% frente a 26.6%).\n",
    "\n",
    "El Modelo 1 tiene más aciertos en negativos, pero es muy malo detectando positivos y comete más falsos positivos.\n",
    "\n",
    "---\n",
    "\n",
    "Si quieres, puedo hacerte **la visualización de ambas matrices con `ConfusionMatrixDisplay`** para que se vea la diferencia más clara. ¿Quieres que la prepare?\n"
   ]
  },
  {
   "cell_type": "markdown",
   "id": "6a43f1ad",
   "metadata": {},
   "source": [
    "# Bloque 3"
   ]
  },
  {
   "cell_type": "markdown",
   "id": "fea8bca9",
   "metadata": {},
   "source": [
    "## Validación cruzada"
   ]
  },
  {
   "cell_type": "markdown",
   "id": "01864072",
   "metadata": {},
   "source": [
    "Es siempre importante analizar el problema de negocio antes de evaluar un modelo de clasificación, para que se elija la métrica más adecuada. En nuestro proyecto, estamos clasificando clientes morosos de una agencia de alquiler de vehículos e identificamos que la métrica más relevante es el recall, que busca minimizar la cantidad de personas morosas que son clasificadas como cumplidoras.\n",
    "\n",
    "Para obtener un resultado completo de las métricas en la validación cruzada así como el [``classification_report``](https://scikit-learn.org/stable/modules/generated/sklearn.metrics.classification_report.html), es necesario utilizar el método ``cross_validate`` e informar en el parámetro ``scoring`` las métricas a evaluar.\n",
    "\n",
    "Como desafío, construye un código para generar el intervalo de confianza para cada una de las métricas utilizando la validación cruzada:\n",
    "\n",
    "- Exactitud\n",
    "- Recall\n",
    "- Precisión\n",
    "- F1-score\n",
    "\n",
    "*Un consejo es explorar la documentación del método ``cross_validate`` a partir de este [material de apoyo](https://scikit-learn.org/stable/modules/generated/sklearn.model_selection.cross_validate.html#sklearn.model_selection.cross_validate), donde puedes descubrir una forma más simple de retornar las métricas de una sola vez con una lista de cadenas.*"
   ]
  },
  {
   "cell_type": "code",
   "execution_count": 18,
   "id": "56b510d0",
   "metadata": {},
   "outputs": [],
   "source": [
    "from sklearn.tree import DecisionTreeClassifier\n",
    "from sklearn.model_selection import KFold,cross_validate\n",
    "from sklearn.metrics import accuracy_score, precision_score, recall_score, f1_score"
   ]
  },
  {
   "cell_type": "code",
   "execution_count": 17,
   "id": "84b9de23",
   "metadata": {},
   "outputs": [
    {
     "data": {
      "text/plain": [
       "{'fit_time': array([0.20343828, 0.19866562, 0.20069289, 0.2664814 , 0.21823668]),\n",
       " 'score_time': array([0.01312089, 0.        , 0.        , 0.        , 0.01785612]),\n",
       " 'test_score': array([0.02642008, 0.01980198, 0.01845018, 0.0156658 , 0.02427746])}"
      ]
     },
     "execution_count": 17,
     "metadata": {},
     "output_type": "execute_result"
    }
   ],
   "source": [
    "modeloTree = DecisionTreeClassifier(max_depth=10)\n",
    "kf = KFold(n_splits=5,shuffle=True,random_state=5)\n",
    "cv_resultados = cross_validate(modeloTree,X,y,cv=kf,scoring='recall')\n",
    "cv_resultados"
   ]
  },
  {
   "cell_type": "code",
   "execution_count": 19,
   "id": "d271b7b0",
   "metadata": {},
   "outputs": [],
   "source": [
    "listaMetricas=['accuracy','recall','precision','f1']"
   ]
  },
  {
   "cell_type": "code",
   "execution_count": 40,
   "id": "d9ec7b76",
   "metadata": {},
   "outputs": [
    {
     "data": {
      "text/plain": [
       "{'fit_time': array([0.25883007, 0.20904517, 0.20009303, 0.19956923, 0.21323299]),\n",
       " 'score_time': array([0.00322819, 0.00713682, 0.01369476, 0.02024984, 0.01691389]),\n",
       " 'test_accuracy': array([0.91322809, 0.90690331, 0.90733885, 0.91332753, 0.89993467]),\n",
       " 'test_recall': array([0.02642008, 0.01980198, 0.0196802 , 0.01697128, 0.02427746]),\n",
       " 'test_precision': array([0.25      , 0.20253165, 0.22857143, 0.23214286, 0.21875   ]),\n",
       " 'test_f1': array([0.04778973, 0.03607666, 0.03624009, 0.03163017, 0.04370447])}"
      ]
     },
     "execution_count": 40,
     "metadata": {},
     "output_type": "execute_result"
    }
   ],
   "source": [
    "modeloTree = DecisionTreeClassifier(max_depth=10)\n",
    "kf = KFold(n_splits=5,shuffle=True,random_state=5)\n",
    "cv_resultados = cross_validate(modeloTree,X,y,cv=kf,scoring=listaMetricas)\n",
    "cv_resultados"
   ]
  },
  {
   "cell_type": "code",
   "execution_count": 73,
   "id": "8070f85c",
   "metadata": {},
   "outputs": [],
   "source": [
    "def intervalo_confianza(resultados):\n",
    "    for x in listaMetricas:\n",
    "        promedio = resultados[f'test_{x}'].mean()\n",
    "        desvio_std = resultados[f'test_{x}'].std()\n",
    "        lim_inf = max(promedio - 2 * desvio_std, 0)\n",
    "        lim_sup = min(promedio + 2 * desvio_std, 1)\n",
    "        print(f'El intervalo de confianza de {x} es de: [{lim_inf:.4f}, {lim_sup:.4f}]')"
   ]
  },
  {
   "cell_type": "code",
   "execution_count": 68,
   "id": "ff4d1f0f",
   "metadata": {},
   "outputs": [
    {
     "data": {
      "text/plain": [
       "{'fit_time': array([0.24045849, 0.19234657, 0.19989896, 0.19624305, 0.19937253]),\n",
       " 'score_time': array([0.01957059, 0.        , 0.0204556 , 0.01709652, 0.        ]),\n",
       " 'test_accuracy': array([0.91322809, 0.9070122 , 0.90788328, 0.91343641, 0.89906359]),\n",
       " 'test_recall': array([0.02774108, 0.02227723, 0.0196802 , 0.01436031, 0.02312139]),\n",
       " 'test_precision': array([0.25609756, 0.2195122 , 0.24615385, 0.21568627, 0.19607843]),\n",
       " 'test_f1': array([0.05005959, 0.04044944, 0.03644647, 0.02692778, 0.04136505])}"
      ]
     },
     "execution_count": 68,
     "metadata": {},
     "output_type": "execute_result"
    }
   ],
   "source": [
    "modeloTree = DecisionTreeClassifier(max_depth=10)\n",
    "kf = KFold(n_splits=5, shuffle=True,random_state=5)\n",
    "cv_resultados = cross_validate(modeloTree,X,y,cv=kf,scoring=listaMetricas)\n",
    "cv_resultados"
   ]
  },
  {
   "cell_type": "code",
   "execution_count": 72,
   "id": "17098a35",
   "metadata": {},
   "outputs": [
    {
     "name": "stdout",
     "output_type": "stream",
     "text": [
      "El intervalo de confianza de accuracy es de: [0.8976305784957506,0.9186188453679567]\n",
      "El intervalo de confianza de recall es de: [0.01265194441400974,0.0302201389248518]\n",
      "El intervalo de confianza de precision es de: [0.1833161171298011,0.27009520612370297]\n",
      "El intervalo de confianza de f1 es de: [0.024022876640984285,0.0540764566868561]\n"
     ]
    }
   ],
   "source": [
    "intervalo_confianza(cv_resultados)"
   ]
  },
  {
   "cell_type": "code",
   "execution_count": 74,
   "id": "5a003d6d",
   "metadata": {},
   "outputs": [
    {
     "name": "stdout",
     "output_type": "stream",
     "text": [
      "El intervalo de confianza de accuracy es de: [0.8976, 0.9186]\n",
      "El intervalo de confianza de recall es de: [0.0127, 0.0302]\n",
      "El intervalo de confianza de precision es de: [0.1833, 0.2701]\n",
      "El intervalo de confianza de f1 es de: [0.0240, 0.0541]\n"
     ]
    }
   ],
   "source": [
    "intervalo_confianza(cv_resultados)"
   ]
  }
 ],
 "metadata": {
  "kernelspec": {
   "display_name": "Python 3",
   "language": "python",
   "name": "python3"
  },
  "language_info": {
   "codemirror_mode": {
    "name": "ipython",
    "version": 3
   },
   "file_extension": ".py",
   "mimetype": "text/x-python",
   "name": "python",
   "nbconvert_exporter": "python",
   "pygments_lexer": "ipython3",
   "version": "3.11.9"
  }
 },
 "nbformat": 4,
 "nbformat_minor": 5
}
