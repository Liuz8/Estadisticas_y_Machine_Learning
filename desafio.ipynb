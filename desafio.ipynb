{
 "cells": [
  {
   "cell_type": "markdown",
   "id": "04af560c",
   "metadata": {},
   "source": [
    "# Bloque 1 - clasificando datos"
   ]
  },
  {
   "cell_type": "markdown",
   "id": "c2caeb4b",
   "metadata": {},
   "source": [
    "Vamos a practicar el contenido que se presentó en la clase a partir de algunas actividades, pero utilizando un conjunto de datos diferente con datos de pacientes a ser diagnosticados con diabetes o no. Los desafíos siguen una secuencia de tareas, sirviendo como un proyecto secundario. Para realizar los desafíos, descarga la base de datos desde este enlace.\n",
    "\n",
    "**1** - Para la construcción de un modelo de machine learning se necesitan datos. Como tarea inicial, realiza la lectura de la base de datos de diabetes y divide los datos en variables explicativas y variable objetivo (x e y). La variable objetivo es la columna que quieres clasificar, que contiene la información de si el paciente tiene o no diabetes. Las variables explicativas son todas las columnas excepto la de diabetes. La separación de los datos se puede hacer con la selección de columnas con ``pandas``.\n",
    "\n",
    "**2** - Una etapa muy importante en proyectos de clasificación es la validación de los modelos, para identificar si hay una generalización del modelo para datos nuevos. Realiza la división de los datos entre entrenamiento, validación y prueba. Utiliza el 5% de los datos para prueba y con el resto, deja el 25% para validación. En el momento de la separación, usa el parámetro ``stratify`` a partir de la variable objetivo para mantener la proporción de los datos.\n",
    "\n",
    "**3** - La etapa de modelado de datos consiste en utilizar un algoritmo capaz de identificar patrones en los datos y clasificar los valores. A partir del modelo es posible extraer una tasa de acierto para entender su desempeño. Crea 2 modelos utilizando los algoritmos [``DecisionTreeClassifier``](https://scikit-learn.org/stable/modules/generated/sklearn.tree.DecisionTreeClassifier.html) y [``RandomForestClassifier``](https://scikit-learn.org/stable/modules/generated/sklearn.ensemble.RandomForestClassifier.html) y evalúa la precisión de entrenamiento y prueba, eligiendo el valor 3 para el parámetro ``max_depth`` del algoritmo ``DecisionTreeClassifier`` y el valor 2 para el ``max_depth`` del algoritmo ``RandomForestClassifier``, para que los modelos no se especialicen demasiado en el patrón de los datos de entrenamiento.\n",
    "\n",
    "**4** - La tasa de acierto generalmente no proporciona información suficiente para entender el comportamiento del modelo. La matriz de confusión es una herramienta más completa, capaz de proporcionar los aciertos y errores del modelo para cada clase. Construye una matriz de confusión para cada uno de los modelos para evaluar el desempeño de la predicción. Para construir la matriz, usa el método ``predict`` para generar las predicciones de los valores y comparar con los valores reales de la base de datos.\n",
    "\n"
   ]
  },
  {
   "cell_type": "markdown",
   "id": "3a846651",
   "metadata": {},
   "source": [
    "## Tarea 1"
   ]
  },
  {
   "cell_type": "code",
   "execution_count": 25,
   "id": "ff87ac37",
   "metadata": {},
   "outputs": [],
   "source": [
    "import pandas as pd"
   ]
  },
  {
   "cell_type": "code",
   "execution_count": 26,
   "id": "1eb2c470",
   "metadata": {},
   "outputs": [],
   "source": [
    "df = pd.read_csv('diabetes.csv')"
   ]
  },
  {
   "cell_type": "code",
   "execution_count": 27,
   "id": "3b1cb725",
   "metadata": {},
   "outputs": [
    {
     "data": {
      "text/html": [
       "<div>\n",
       "<style scoped>\n",
       "    .dataframe tbody tr th:only-of-type {\n",
       "        vertical-align: middle;\n",
       "    }\n",
       "\n",
       "    .dataframe tbody tr th {\n",
       "        vertical-align: top;\n",
       "    }\n",
       "\n",
       "    .dataframe thead th {\n",
       "        text-align: right;\n",
       "    }\n",
       "</style>\n",
       "<table border=\"1\" class=\"dataframe\">\n",
       "  <thead>\n",
       "    <tr style=\"text-align: right;\">\n",
       "      <th></th>\n",
       "      <th>glicemia</th>\n",
       "      <th>presion_sanguinea</th>\n",
       "      <th>grasa_subcutanea_triceps</th>\n",
       "      <th>insulina</th>\n",
       "      <th>imc</th>\n",
       "      <th>diabetes</th>\n",
       "    </tr>\n",
       "  </thead>\n",
       "  <tbody>\n",
       "    <tr>\n",
       "      <th>0</th>\n",
       "      <td>66</td>\n",
       "      <td>23</td>\n",
       "      <td>94</td>\n",
       "      <td>28.1</td>\n",
       "      <td>0.167</td>\n",
       "      <td>0</td>\n",
       "    </tr>\n",
       "    <tr>\n",
       "      <th>1</th>\n",
       "      <td>40</td>\n",
       "      <td>35</td>\n",
       "      <td>168</td>\n",
       "      <td>43.1</td>\n",
       "      <td>2.288</td>\n",
       "      <td>1</td>\n",
       "    </tr>\n",
       "    <tr>\n",
       "      <th>2</th>\n",
       "      <td>50</td>\n",
       "      <td>32</td>\n",
       "      <td>88</td>\n",
       "      <td>31.0</td>\n",
       "      <td>0.248</td>\n",
       "      <td>1</td>\n",
       "    </tr>\n",
       "    <tr>\n",
       "      <th>3</th>\n",
       "      <td>70</td>\n",
       "      <td>45</td>\n",
       "      <td>543</td>\n",
       "      <td>30.5</td>\n",
       "      <td>0.158</td>\n",
       "      <td>1</td>\n",
       "    </tr>\n",
       "    <tr>\n",
       "      <th>4</th>\n",
       "      <td>60</td>\n",
       "      <td>23</td>\n",
       "      <td>846</td>\n",
       "      <td>30.1</td>\n",
       "      <td>0.398</td>\n",
       "      <td>1</td>\n",
       "    </tr>\n",
       "  </tbody>\n",
       "</table>\n",
       "</div>"
      ],
      "text/plain": [
       "   glicemia  presion_sanguinea  grasa_subcutanea_triceps  insulina    imc  \\\n",
       "0        66                 23                        94      28.1  0.167   \n",
       "1        40                 35                       168      43.1  2.288   \n",
       "2        50                 32                        88      31.0  0.248   \n",
       "3        70                 45                       543      30.5  0.158   \n",
       "4        60                 23                       846      30.1  0.398   \n",
       "\n",
       "   diabetes  \n",
       "0         0  \n",
       "1         1  \n",
       "2         1  \n",
       "3         1  \n",
       "4         1  "
      ]
     },
     "execution_count": 27,
     "metadata": {},
     "output_type": "execute_result"
    }
   ],
   "source": [
    "df.head()"
   ]
  },
  {
   "cell_type": "code",
   "execution_count": 28,
   "id": "8707e8ca",
   "metadata": {},
   "outputs": [
    {
     "name": "stdout",
     "output_type": "stream",
     "text": [
      "<class 'pandas.core.frame.DataFrame'>\n",
      "RangeIndex: 394 entries, 0 to 393\n",
      "Data columns (total 6 columns):\n",
      " #   Column                    Non-Null Count  Dtype  \n",
      "---  ------                    --------------  -----  \n",
      " 0   glicemia                  394 non-null    int64  \n",
      " 1   presion_sanguinea         394 non-null    int64  \n",
      " 2   grasa_subcutanea_triceps  394 non-null    int64  \n",
      " 3   insulina                  394 non-null    float64\n",
      " 4   imc                       394 non-null    float64\n",
      " 5   diabetes                  394 non-null    int64  \n",
      "dtypes: float64(2), int64(4)\n",
      "memory usage: 18.6 KB\n"
     ]
    }
   ],
   "source": [
    "df.info()"
   ]
  },
  {
   "cell_type": "code",
   "execution_count": 29,
   "id": "c749aefe",
   "metadata": {},
   "outputs": [],
   "source": [
    "X = df.drop(columns='diabetes',axis=1)\n",
    "y = df.diabetes"
   ]
  },
  {
   "cell_type": "code",
   "execution_count": 30,
   "id": "ea7a5c4a",
   "metadata": {},
   "outputs": [
    {
     "data": {
      "text/html": [
       "<div>\n",
       "<style scoped>\n",
       "    .dataframe tbody tr th:only-of-type {\n",
       "        vertical-align: middle;\n",
       "    }\n",
       "\n",
       "    .dataframe tbody tr th {\n",
       "        vertical-align: top;\n",
       "    }\n",
       "\n",
       "    .dataframe thead th {\n",
       "        text-align: right;\n",
       "    }\n",
       "</style>\n",
       "<table border=\"1\" class=\"dataframe\">\n",
       "  <thead>\n",
       "    <tr style=\"text-align: right;\">\n",
       "      <th></th>\n",
       "      <th>glicemia</th>\n",
       "      <th>presion_sanguinea</th>\n",
       "      <th>grasa_subcutanea_triceps</th>\n",
       "      <th>insulina</th>\n",
       "      <th>imc</th>\n",
       "    </tr>\n",
       "  </thead>\n",
       "  <tbody>\n",
       "    <tr>\n",
       "      <th>0</th>\n",
       "      <td>66</td>\n",
       "      <td>23</td>\n",
       "      <td>94</td>\n",
       "      <td>28.1</td>\n",
       "      <td>0.167</td>\n",
       "    </tr>\n",
       "    <tr>\n",
       "      <th>1</th>\n",
       "      <td>40</td>\n",
       "      <td>35</td>\n",
       "      <td>168</td>\n",
       "      <td>43.1</td>\n",
       "      <td>2.288</td>\n",
       "    </tr>\n",
       "    <tr>\n",
       "      <th>2</th>\n",
       "      <td>50</td>\n",
       "      <td>32</td>\n",
       "      <td>88</td>\n",
       "      <td>31.0</td>\n",
       "      <td>0.248</td>\n",
       "    </tr>\n",
       "    <tr>\n",
       "      <th>3</th>\n",
       "      <td>70</td>\n",
       "      <td>45</td>\n",
       "      <td>543</td>\n",
       "      <td>30.5</td>\n",
       "      <td>0.158</td>\n",
       "    </tr>\n",
       "    <tr>\n",
       "      <th>4</th>\n",
       "      <td>60</td>\n",
       "      <td>23</td>\n",
       "      <td>846</td>\n",
       "      <td>30.1</td>\n",
       "      <td>0.398</td>\n",
       "    </tr>\n",
       "  </tbody>\n",
       "</table>\n",
       "</div>"
      ],
      "text/plain": [
       "   glicemia  presion_sanguinea  grasa_subcutanea_triceps  insulina    imc\n",
       "0        66                 23                        94      28.1  0.167\n",
       "1        40                 35                       168      43.1  2.288\n",
       "2        50                 32                        88      31.0  0.248\n",
       "3        70                 45                       543      30.5  0.158\n",
       "4        60                 23                       846      30.1  0.398"
      ]
     },
     "execution_count": 30,
     "metadata": {},
     "output_type": "execute_result"
    }
   ],
   "source": [
    "X.head()"
   ]
  },
  {
   "cell_type": "code",
   "execution_count": 31,
   "id": "d67f21b1",
   "metadata": {},
   "outputs": [
    {
     "data": {
      "text/plain": [
       "0    0\n",
       "1    1\n",
       "2    1\n",
       "3    1\n",
       "4    1\n",
       "Name: diabetes, dtype: int64"
      ]
     },
     "execution_count": 31,
     "metadata": {},
     "output_type": "execute_result"
    }
   ],
   "source": [
    "y.head()"
   ]
  },
  {
   "cell_type": "markdown",
   "id": "3611ad2e",
   "metadata": {},
   "source": [
    "## Tarea 2"
   ]
  },
  {
   "cell_type": "code",
   "execution_count": 32,
   "id": "dfd0263b",
   "metadata": {},
   "outputs": [],
   "source": [
    "from sklearn.model_selection import train_test_split"
   ]
  },
  {
   "cell_type": "code",
   "execution_count": 34,
   "id": "91e4baa0",
   "metadata": {},
   "outputs": [
    {
     "data": {
      "text/plain": [
       "diabetes\n",
       "0    264\n",
       "1    130\n",
       "Name: count, dtype: int64"
      ]
     },
     "execution_count": 34,
     "metadata": {},
     "output_type": "execute_result"
    }
   ],
   "source": [
    "# esto es para saber cuan desproporcionado estan los numeros\n",
    "y.value_counts().sort_index()"
   ]
  },
  {
   "cell_type": "code",
   "execution_count": 35,
   "id": "f9273322",
   "metadata": {},
   "outputs": [],
   "source": [
    "X,X_test,y,y_test = train_test_split(X,y,test_size=0.05,stratify=y,random_state=5)\n",
    "X_train,X_val,y_train,y_val = train_test_split(X,y,stratify=y,random_state=5)"
   ]
  },
  {
   "cell_type": "markdown",
   "id": "ae013698",
   "metadata": {},
   "source": [
    "## Tarea 3"
   ]
  },
  {
   "cell_type": "code",
   "execution_count": 36,
   "id": "9f952cea",
   "metadata": {},
   "outputs": [],
   "source": [
    "from sklearn.tree import DecisionTreeClassifier\n",
    "from sklearn.ensemble import RandomForestClassifier"
   ]
  },
  {
   "cell_type": "code",
   "execution_count": 38,
   "id": "eaeccf73",
   "metadata": {},
   "outputs": [
    {
     "name": "stdout",
     "output_type": "stream",
     "text": [
      "Modelo Tree\n",
      "La exactitud del modelo en entrenamiento es: 0.725\n",
      "La exactitud del modelo en validacion es: 0.8191489361702128\n",
      "\n",
      "\n",
      "Modelo Random Forest\n",
      "La exactitud del modelo en entrenamiento es: 0.7214285714285714\n",
      "La exactitud del modelo en validacion es: 0.7553191489361702\n"
     ]
    }
   ],
   "source": [
    "modeloTree = DecisionTreeClassifier(max_depth=3)\n",
    "modeloRandomForest = RandomForestClassifier(max_depth=2)\n",
    "\n",
    "modeloTree.fit(X,y)\n",
    "modeloRandomForest.fit(X,y)\n",
    "\n",
    "print('Modelo Tree')\n",
    "print(f'La exactitud del modelo en entrenamiento es: {modeloTree.score(X_train,y_train)}')\n",
    "print(f'La exactitud del modelo en validacion es: {modeloTree.score(X_val,y_val)}\\n\\n')\n",
    "print('Modelo Random Forest')\n",
    "print(f'La exactitud del modelo en entrenamiento es: {modeloRandomForest.score(X_train,y_train)}')\n",
    "print(f'La exactitud del modelo en validacion es: {modeloRandomForest.score(X_val,y_val)}')"
   ]
  },
  {
   "cell_type": "markdown",
   "id": "dc2c6a18",
   "metadata": {},
   "source": [
    "## Tarea 4"
   ]
  },
  {
   "cell_type": "code",
   "execution_count": 39,
   "id": "24503dde",
   "metadata": {},
   "outputs": [],
   "source": [
    "from sklearn.metrics import confusion_matrix"
   ]
  },
  {
   "cell_type": "code",
   "execution_count": 40,
   "id": "c148bc20",
   "metadata": {},
   "outputs": [
    {
     "name": "stdout",
     "output_type": "stream",
     "text": [
      "Tree\n",
      "[[60  3]\n",
      " [14 17]]\n",
      "\n",
      "Random Forest\n",
      "[[60  3]\n",
      " [20 11]]\n"
     ]
    }
   ],
   "source": [
    "y_previstoTree = modeloTree.predict(X_val)\n",
    "y_previstoRandomForest = modeloRandomForest.predict(X_val)\n",
    "\n",
    "matriz_confusionTree = confusion_matrix(y_val,y_previstoTree)\n",
    "matriz_confusionRandomForest = confusion_matrix(y_val,y_previstoRandomForest)\n",
    "\n",
    "print('Tree')\n",
    "print(f'{matriz_confusionTree}\\n')\n",
    "print(f'Random Forest')\n",
    "print(matriz_confusionRandomForest)"
   ]
  },
  {
   "cell_type": "code",
   "execution_count": 41,
   "id": "55ca288a",
   "metadata": {},
   "outputs": [],
   "source": [
    "from sklearn.metrics import ConfusionMatrixDisplay"
   ]
  },
  {
   "cell_type": "code",
   "execution_count": 42,
   "id": "bf281e39",
   "metadata": {},
   "outputs": [
    {
     "data": {
      "image/png": "[encoded data removed]",
      "text/plain": [
       "<Figure size 640x480 with 2 Axes>"
      ]
     },
     "metadata": {},
     "output_type": "display_data"
    },
    {
     "data": {
      "image/png": "[encoded data removed]",
      "text/plain": [
       "<Figure size 640x480 with 2 Axes>"
      ]
     },
     "metadata": {},
     "output_type": "display_data"
    }
   ],
   "source": [
    "visualizacionTree = ConfusionMatrixDisplay(confusion_matrix=matriz_confusionTree,display_labels=['Sin diabetes', 'Con diabetes'])\n",
    "visualizacionTree.plot();\n",
    "visualizacionRandomForest = ConfusionMatrixDisplay(confusion_matrix=matriz_confusionRandomForest,display_labels=['Sin diabetes', 'Con diabetes'])\n",
    "visualizacionRandomForest.plot();"
   ]
  },
  {
   "cell_type": "markdown",
   "id": "c82b8636",
   "metadata": {},
   "source": [
    "# Bloque 2 - Métricas de evaluación"
   ]
  },
  {
   "cell_type": "markdown",
   "id": "7ddd4255",
   "metadata": {},
   "source": [
    "Vamos a practicar el contenido que se presentó en la clase a partir de algunas actividades, pero usando un conjunto de datos diferente con datos de pacientes a ser diagnosticados con diabetes o no. Los desafíos siguen una secuencia de tareas, sirviendo como un proyecto secundario. Para realizar los desafíos, descarga la base de datos desde este enlace.\n",
    "\n",
    "Estos desafíos dependen del modelo generado en los desafíos de la clase 1.\n",
    "\n",
    "1 - Para una evaluación completa de un modelo de clasificación, podemos explorar métricas que evalúan la tasa de acierto general y también para cada clase de la variable objetivo de forma individual. Extrae las métricas de precisión, recall, precisión y F1-Score de los modelos de clasificación generados en el desafío de la clase 1. La biblioteca Scikit-Learn tiene funciones para calcular cada una de las métricas, solo necesitas importar y utilizar como parámetros los valores reales y previstos por el modelo.\n",
    "\n",
    "2 - Además de métricas numéricas, se pueden explorar gráficos para evaluar el rendimiento de un modelo y comprender si puede diferenciar bien una clase de otra. Obtén la curva ROC y la métrica AUC de los modelos de clasificación generados en el desafío de la clase 1, comparando las curvas en el mismo gráfico. La curva ROC se puede generar usando el método [RocCurveDisplay.from_predictions](https://scikit-learn.org/stable/modules/generated/sklearn.metrics.RocCurveDisplay.html#sklearn.metrics.RocCurveDisplay.from_predictions).\n",
    "\n",
    "3 - Además de la curva ROC, la curva de precisión x recall se puede usar para evaluar el rendimiento de modelos, siendo más interesante para datos desbalanceados. Obtén la curva de precisión x recall y la métrica AP de los modelos de clasificación generados en el desafío de la clase 1, comparando las curvas en el mismo gráfico. La curva de precisión x recall se puede generar usando el método [PrecisionRecallDisplay.from_predictions](https://scikit-learn.org/stable/modules/generated/sklearn.metrics.PrecisionRecallDisplay.html#sklearn.metrics.PrecisionRecallDisplay.from_predictions).\n",
    "\n",
    "4 - Un resumen de las principales métricas de clasificación puede ser muy útil para resumir la información y generar insights de forma rápida. Genera los informes de métricas de los modelos de clasificación construidos en el desafío de la clase 1. El informe de métricas se puede generar a partir de la función classification_report de la biblioteca [Scikit-Learn](https://scikit-learn.org/stable/modules/generated/sklearn.metrics.classification_report.html).\n",
    "\n",
    "Como consejo, revisa la documentación de ``Scikit-learn`` desde este [enlace](https://scikit-learn.org/stable/auto_examples/release_highlights/plot_release_highlights_0_22_0.html#new-plotting-api) y verifica una forma de presentar los resultados de las curvas en el mismo gráfico usando matplotlib."
   ]
  },
  {
   "cell_type": "markdown",
   "id": "ecc964f2",
   "metadata": {},
   "source": [
    "## Tarea 1"
   ]
  },
  {
   "cell_type": "code",
   "execution_count": 43,
   "id": "df97dc87",
   "metadata": {},
   "outputs": [],
   "source": [
    "from sklearn.metrics import accuracy_score, precision_score, recall_score, f1_score"
   ]
  },
  {
   "cell_type": "code",
   "execution_count": 44,
   "id": "027ff3dd",
   "metadata": {},
   "outputs": [
    {
     "name": "stdout",
     "output_type": "stream",
     "text": [
      "La precisión del modelo es: 0.85\n",
      "La accuray del modelo es: 0.8191489361702128\n",
      "La recall del modelo es: 0.5483870967741935\n",
      "La F1 del modelo es: 0.6666666666666666\n"
     ]
    }
   ],
   "source": [
    "print(f'La precisión del modelo es: {precision_score(y_val,y_previstoTree)}')\n",
    "print(f'La accuray del modelo es: {accuracy_score(y_val,y_previstoTree)}')\n",
    "print(f'La recall del modelo es: {recall_score(y_val,y_previstoTree)}')\n",
    "print(f'La F1 del modelo es: {f1_score(y_val,y_previstoTree)}')"
   ]
  },
  {
   "cell_type": "code",
   "execution_count": 45,
   "id": "d36436a6",
   "metadata": {},
   "outputs": [
    {
     "name": "stdout",
     "output_type": "stream",
     "text": [
      "La precisión del modelo es: 0.7857142857142857\n",
      "La accuray del modelo es: 0.7553191489361702\n",
      "La recall del modelo es: 0.3548387096774194\n",
      "La F1 del modelo es: 0.4888888888888889\n"
     ]
    }
   ],
   "source": [
    "print(f'La precisión del modelo es: {precision_score(y_val,y_previstoRandomForest)}')\n",
    "print(f'La accuray del modelo es: {accuracy_score(y_val,y_previstoRandomForest)}')\n",
    "print(f'La recall del modelo es: {recall_score(y_val,y_previstoRandomForest)}')\n",
    "print(f'La F1 del modelo es: {f1_score(y_val,y_previstoRandomForest)}')"
   ]
  },
  {
   "cell_type": "markdown",
   "id": "1cfeab84",
   "metadata": {},
   "source": [
    "## Tarea 2"
   ]
  },
  {
   "cell_type": "code",
   "execution_count": 46,
   "id": "30cf8752",
   "metadata": {},
   "outputs": [],
   "source": [
    "from sklearn.metrics import RocCurveDisplay"
   ]
  },
  {
   "cell_type": "code",
   "execution_count": 48,
   "id": "6d05a4e1",
   "metadata": {},
   "outputs": [
    {
     "data": {
      "text/plain": [
       "<sklearn.metrics._plot.roc_curve.RocCurveDisplay at 0x1ece90cd5d0>"
      ]
     },
     "execution_count": 48,
     "metadata": {},
     "output_type": "execute_result"
    },
    {
     "data": {
      "image/png": "[encoded data removed]",
      "text/plain": [
       "<Figure size 640x480 with 1 Axes>"
      ]
     },
     "metadata": {},
     "output_type": "display_data"
    },
    {
     "data": {
      "image/png": "[encoded data removed]",
      "text/plain": [
       "<Figure size 640x480 with 1 Axes>"
      ]
     },
     "metadata": {},
     "output_type": "display_data"
    }
   ],
   "source": [
    "RocCurveDisplay.from_predictions(y_val,y_previstoTree,name='Árbol de Decisión')\n",
    "RocCurveDisplay.from_predictions(y_val,y_previstoRandomForest,name='Árbol de Decisión')"
   ]
  },
  {
   "cell_type": "code",
   "execution_count": 49,
   "id": "a28d92be",
   "metadata": {},
   "outputs": [],
   "source": [
    "from sklearn.metrics import roc_auc_score"
   ]
  },
  {
   "cell_type": "code",
   "execution_count": 50,
   "id": "957ab0d4",
   "metadata": {},
   "outputs": [
    {
     "name": "stdout",
     "output_type": "stream",
     "text": [
      "El area bajo la curva ROC del modelo de TREE es: 0.7503840245775729\n",
      "El area bajo la curva ROC del modelo de RANDOM_FOREST es: 0.6536098310291858\n"
     ]
    }
   ],
   "source": [
    "print(f'El area bajo la curva ROC del modelo de TREE es: {roc_auc_score(y_val,y_previstoTree)}')\n",
    "print(f'El area bajo la curva ROC del modelo de RANDOM_FOREST es: {roc_auc_score(y_val,y_previstoRandomForest)}')"
   ]
  },
  {
   "cell_type": "markdown",
   "id": "1b78cf7a",
   "metadata": {},
   "source": [
    "## Tarea 3"
   ]
  },
  {
   "cell_type": "code",
   "execution_count": 51,
   "id": "12fd0e26",
   "metadata": {},
   "outputs": [],
   "source": [
    "from sklearn.metrics import PrecisionRecallDisplay"
   ]
  },
  {
   "cell_type": "code",
   "execution_count": 52,
   "id": "5da5f297",
   "metadata": {},
   "outputs": [
    {
     "data": {
      "text/plain": [
       "<sklearn.metrics._plot.precision_recall_curve.PrecisionRecallDisplay at 0x1ece94c4990>"
      ]
     },
     "execution_count": 52,
     "metadata": {},
     "output_type": "execute_result"
    },
    {
     "data": {
      "image/png": "[encoded data removed]",
      "text/plain": [
       "<Figure size 640x480 with 1 Axes>"
      ]
     },
     "metadata": {},
     "output_type": "display_data"
    },
    {
     "data": {
      "image/png": "[encoded data removed]",
      "text/plain": [
       "<Figure size 640x480 with 1 Axes>"
      ]
     },
     "metadata": {},
     "output_type": "display_data"
    }
   ],
   "source": [
    "PrecisionRecallDisplay.from_predictions(y_val,y_previstoTree,name='Tree')\n",
    "PrecisionRecallDisplay.from_predictions(y_val,y_previstoRandomForest,name='Random Forest')"
   ]
  },
  {
   "cell_type": "code",
   "execution_count": 53,
   "id": "1f27abfe",
   "metadata": {},
   "outputs": [],
   "source": [
    "from sklearn.metrics import average_precision_score"
   ]
  },
  {
   "cell_type": "code",
   "execution_count": 54,
   "id": "71cf739f",
   "metadata": {},
   "outputs": [
    {
     "name": "stdout",
     "output_type": "stream",
     "text": [
      "El score promedio de precisión vs recall de TREE es: 0.6150652024708304\n",
      "El score promedio de precisión vs recall de RANDOM FOREST es: 0.49156780076478085\n"
     ]
    }
   ],
   "source": [
    "print(f'El score promedio de precisión vs recall de TREE es: {average_precision_score(y_val,y_previstoTree)}')\n",
    "print(f'El score promedio de precisión vs recall de RANDOM FOREST es: {average_precision_score(y_val,y_previstoRandomForest)}')"
   ]
  },
  {
   "cell_type": "markdown",
   "id": "76002595",
   "metadata": {},
   "source": [
    "## Tarea 4"
   ]
  },
  {
   "cell_type": "code",
   "execution_count": 55,
   "id": "1b2a5247",
   "metadata": {},
   "outputs": [],
   "source": [
    "from sklearn.metrics import classification_report"
   ]
  },
  {
   "cell_type": "code",
   "execution_count": 56,
   "id": "34955ae0",
   "metadata": {},
   "outputs": [
    {
     "name": "stdout",
     "output_type": "stream",
     "text": [
      "Tree\n",
      "              precision    recall  f1-score   support\n",
      "\n",
      "           0       0.81      0.95      0.88        63\n",
      "           1       0.85      0.55      0.67        31\n",
      "\n",
      "    accuracy                           0.82        94\n",
      "   macro avg       0.83      0.75      0.77        94\n",
      "weighted avg       0.82      0.82      0.81        94\n",
      "\n",
      "\n",
      "Random Forest\n",
      "              precision    recall  f1-score   support\n",
      "\n",
      "           0       0.75      0.95      0.84        63\n",
      "           1       0.79      0.35      0.49        31\n",
      "\n",
      "    accuracy                           0.76        94\n",
      "   macro avg       0.77      0.65      0.66        94\n",
      "weighted avg       0.76      0.76      0.72        94\n",
      "\n"
     ]
    }
   ],
   "source": [
    "print('Tree')\n",
    "print(classification_report(y_val,y_previstoTree))\n",
    "print('\\nRandom Forest')\n",
    "print(classification_report(y_val,y_previstoRandomForest))"
   ]
  }
 ],
 "metadata": {
  "language_info": {
   "name": "python"
  }
 },
 "nbformat": 4,
 "nbformat_minor": 5
}
