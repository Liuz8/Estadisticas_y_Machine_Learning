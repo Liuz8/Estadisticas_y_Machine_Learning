{
 "cells": [
  {
   "cell_type": "markdown",
   "id": "7347506a",
   "metadata": {},
   "source": [
    "# Bloque 1 - clasificando datos"
   ]
  },
  {
   "cell_type": "markdown",
   "id": "61ed30d3",
   "metadata": {},
   "source": [
    "## construyendo un segundo modelo modeloRandomTree()"
   ]
  },
  {
   "cell_type": "markdown",
   "id": "0c0957c5",
   "metadata": {},
   "source": [
    "Se recomienda utilizar más de un modelo de clasificación en proyectos de machine learning, para que se comparen los resultados y se elija aquel modelo que tenga un mejor desempeño, después de todos los análisis y mejoras.\n",
    "\n",
    "Utilizamos durante la clase el algoritmo de árbol de decisión, pero la biblioteca Scikit-Learn tiene varios otros métodos de clasificación que pueden ser utilizados en nuestro proyecto. Como desafío, utiliza el algoritmo Random Forest para crear un modelo y evaluar el desempeño con la precisión y la matriz de confusión, y compara los resultados con el resultado del árbol de decisión.\n",
    "\n",
    "Como un consejo, revisa la documentación del algoritmo [RandomForestClassifier](https://scikit-learn.org/stable/modules/generated/sklearn.ensemble.RandomForestClassifier.html#sklearn.ensemble.RandomForestClassifier). Explora este material y observa cómo importar la función. Durante este proceso, recuerda verificar los parámetros del método para evitar que el modelo se ajuste demasiado a los datos de entrenamiento."
   ]
  },
  {
   "cell_type": "code",
   "execution_count": 1,
   "id": "a5f32504",
   "metadata": {},
   "outputs": [],
   "source": [
    "import pandas as pd\n",
    "from sklearn.ensemble import RandomForestClassifier"
   ]
  },
  {
   "cell_type": "code",
   "execution_count": 2,
   "id": "f1d2e149",
   "metadata": {},
   "outputs": [],
   "source": [
    "df = pd.read_csv('prestacar.csv')"
   ]
  },
  {
   "cell_type": "code",
   "execution_count": 4,
   "id": "4f79160b",
   "metadata": {},
   "outputs": [],
   "source": [
    "X = df.drop(columns='moroso',axis=1)\n",
    "y = df.moroso"
   ]
  },
  {
   "cell_type": "code",
   "execution_count": 5,
   "id": "8ea4c310",
   "metadata": {},
   "outputs": [
    {
     "data": {
      "text/plain": [
       "1.0"
      ]
     },
     "execution_count": 5,
     "metadata": {},
     "output_type": "execute_result"
    }
   ],
   "source": [
    "modeloRandomTree = RandomForestClassifier()\n",
    "modeloRandomTree.fit(X,y)\n",
    "modeloRandomTree.score(X,y)"
   ]
  },
  {
   "cell_type": "code",
   "execution_count": 6,
   "id": "da43bbb5",
   "metadata": {},
   "outputs": [
    {
     "name": "stdout",
     "output_type": "stream",
     "text": [
      "La exactitud del modelo es: 1.0\n"
     ]
    }
   ],
   "source": [
    "print(f'La exactitud del modelo es: {modeloRandomTree.score(X,y)}')"
   ]
  },
  {
   "cell_type": "code",
   "execution_count": 8,
   "id": "c03ff455",
   "metadata": {},
   "outputs": [],
   "source": [
    "from sklearn.model_selection import train_test_split"
   ]
  },
  {
   "cell_type": "code",
   "execution_count": 10,
   "id": "56c129b7",
   "metadata": {},
   "outputs": [],
   "source": [
    "X,X_test,y,y_test = train_test_split(X,y,test_size=0.15,stratify=y,random_state=5)\n",
    "X_train,X_val,y_train,y_val = train_test_split(X,y,stratify=y,random_state=5)"
   ]
  },
  {
   "cell_type": "code",
   "execution_count": 17,
   "id": "c6c91ca0",
   "metadata": {},
   "outputs": [
    {
     "name": "stdout",
     "output_type": "stream",
     "text": [
      "La exactitud del modelo en entrenamiento es: 0.9999316799890688\n",
      "La exactitud del modelo en validacion es: 0.9157614265218282\n"
     ]
    }
   ],
   "source": [
    "modeloRandomTree = RandomForestClassifier()\n",
    "modeloRandomTree.fit(X_train,y_train)\n",
    "print(f'La exactitud del modelo en entrenamiento es: {modeloRandomTree.score(X_train,y_train)}')\n",
    "print(f'La exactitud del modelo en validacion es: {modeloRandomTree.score(X_val,y_val)}')"
   ]
  },
  {
   "cell_type": "code",
   "execution_count": 19,
   "id": "dc029631",
   "metadata": {},
   "outputs": [],
   "source": [
    "from sklearn.metrics import confusion_matrix"
   ]
  },
  {
   "cell_type": "code",
   "execution_count": 20,
   "id": "c9b7ca39",
   "metadata": {},
   "outputs": [
    {
     "name": "stdout",
     "output_type": "stream",
     "text": [
      "[[8890   16]\n",
      " [ 806   46]]\n"
     ]
    }
   ],
   "source": [
    "y_previsto = modeloRandomTree.predict(X_val)\n",
    "matriz_confusion = confusion_matrix(y_val,y_previsto)\n",
    "print(matriz_confusion)"
   ]
  },
  {
   "cell_type": "code",
   "execution_count": 21,
   "id": "0ddc4be4",
   "metadata": {},
   "outputs": [],
   "source": [
    "from sklearn.metrics import ConfusionMatrixDisplay"
   ]
  },
  {
   "cell_type": "code",
   "execution_count": 23,
   "id": "7bfb33f4",
   "metadata": {},
   "outputs": [
    {
     "data": {
      "image/png": "[encoded data removed]",
      "text/plain": [
       "<Figure size 640x480 with 2 Axes>"
      ]
     },
     "metadata": {},
     "output_type": "display_data"
    }
   ],
   "source": [
    "visualizacion = ConfusionMatrixDisplay(confusion_matrix = matriz_confusion, display_labels=['Cumplido', 'Moroso'])\n",
    "visualizacion.plot();"
   ]
  },
  {
   "cell_type": "markdown",
   "id": "9447b171",
   "metadata": {},
   "source": [
    "## DecisionTreeClassifier"
   ]
  },
  {
   "cell_type": "markdown",
   "id": "bf6eaf9e",
   "metadata": {},
   "source": [
    "<a href=\"https://ibb.co/351SbY7t\"><img src=\"https://i.ibb.co/wZypqrRD/matriz-confusion.png\" alt=\"matriz-confusion\" border=\"0\"></a>"
   ]
  },
  {
   "cell_type": "markdown",
   "id": "837c2e56",
   "metadata": {},
   "source": [
    "## como comparar"
   ]
  },
  {
   "cell_type": "markdown",
   "id": "f8e414ca",
   "metadata": {},
   "source": [
    "- **TN (True Negative)**: Negativos bien clasificados.\n",
    "\n",
    "- **FP (False Positive)**: Negativos mal clasificados como positivos.\n",
    "\n",
    "- **FN (False Negative)**: Positivos mal clasificados como negativos.\n",
    "\n",
    "- **TP (True Positive)**: Positivos bien clasificados."
   ]
  },
  {
   "cell_type": "markdown",
   "id": "2f228d46",
   "metadata": {},
   "source": [
    "Ok, vamos a compararlos paso a paso.\n",
    "\n",
    "---\n",
    "\n",
    "## 📊 **Matrices de confusión**\n",
    "\n",
    "Formato:\n",
    "\n",
    "```\n",
    "[[TN  FP]\n",
    " [FN  TP]]\n",
    "```\n",
    "\n",
    "* **TN (True Negative):** Negativos bien clasificados.\n",
    "* **FP (False Positive):** Negativos mal clasificados como positivos.\n",
    "* **FN (False Negative):** Positivos mal clasificados como negativos.\n",
    "* **TP (True Positive):** Positivos bien clasificados.\n",
    "\n",
    "---\n",
    "\n",
    "### **Modelo 1**\n",
    "\n",
    "```\n",
    "[[10363   116]\n",
    " [  960    42]]\n",
    "```\n",
    "\n",
    "* TN = 10363\n",
    "* FP = 116\n",
    "* FN = 960\n",
    "* TP = 42\n",
    "\n",
    "**Métricas:**\n",
    "\n",
    "* **Precisión (accuracy):**\n",
    "\n",
    "  $$\n",
    "  \\frac{TN + TP}{Total} = \\frac{10363 + 42}{10363+116+960+42} \n",
    "  = \\frac{10405}{11481} \\approx 0.906\n",
    "  $$\n",
    "\n",
    "  → **90.6%**\n",
    "\n",
    "* **Recall (sensibilidad, clase positiva):**\n",
    "\n",
    "  $$\n",
    "  \\frac{TP}{TP + FN} = \\frac{42}{42+960} \\approx 0.041\n",
    "  $$\n",
    "\n",
    "  → **4.1%**\n",
    "\n",
    "* **Precisión (precision, clase positiva):**\n",
    "\n",
    "  $$\n",
    "  \\frac{TP}{TP + FP} = \\frac{42}{42+116} \\approx 0.266\n",
    "  $$\n",
    "\n",
    "  → **26.6%**\n",
    "\n",
    "---\n",
    "\n",
    "### **Modelo 2**\n",
    "\n",
    "```\n",
    "[[8890   16]\n",
    " [ 806   46]]\n",
    "```\n",
    "\n",
    "* TN = 8890\n",
    "* FP = 16\n",
    "* FN = 806\n",
    "* TP = 46\n",
    "\n",
    "**Métricas:**\n",
    "\n",
    "* **Precisión (accuracy):**\n",
    "\n",
    "  $$\n",
    "  \\frac{TN + TP}{Total} = \\frac{8890 + 46}{8890+16+806+46} \n",
    "  = \\frac{8936}{9758} \\approx 0.915\n",
    "  $$\n",
    "\n",
    "  → **91.5%**\n",
    "\n",
    "* **Recall (sensibilidad, clase positiva):**\n",
    "\n",
    "  $$\n",
    "  \\frac{TP}{TP + FN} = \\frac{46}{46+806} \\approx 0.054\n",
    "  $$\n",
    "\n",
    "  → **5.4%**\n",
    "\n",
    "* **Precisión (precision, clase positiva):**\n",
    "\n",
    "  $$\n",
    "  \\frac{TP}{TP + FP} = \\frac{46}{46+16} \\approx 0.742\n",
    "  $$\n",
    "\n",
    "  → **74.2%**\n",
    "\n",
    "---\n",
    "\n",
    "## 📈 Comparación\n",
    "\n",
    "| Métrica       | Modelo 1 | Modelo 2  | Mejor    |\n",
    "| ------------- | -------- | --------- | -------- |\n",
    "| Accuracy      | 90.6%    | **91.5%** | Modelo 2 |\n",
    "| Recall (+)    | 4.1%     | **5.4%**  | Modelo 2 |\n",
    "| Precision (+) | 26.6%    | **74.2%** | Modelo 2 |\n",
    "\n",
    "---\n",
    "\n",
    "## 💡 **Conclusión**\n",
    "\n",
    "**El Modelo 2 es mejor**, porque:\n",
    "\n",
    "* Tiene **mayor accuracy**.\n",
    "* Detecta **más verdaderos positivos** (mayor recall).\n",
    "* Sus predicciones positivas son mucho más confiables (precision altísima de 74.2% frente a 26.6%).\n",
    "\n",
    "El Modelo 1 tiene más aciertos en negativos, pero es muy malo detectando positivos y comete más falsos positivos.\n",
    "\n",
    "---\n",
    "\n",
    "Si quieres, puedo hacerte **la visualización de ambas matrices con `ConfusionMatrixDisplay`** para que se vea la diferencia más clara. ¿Quieres que la prepare?\n"
   ]
  }
 ],
 "metadata": {
  "kernelspec": {
   "display_name": "Python 3",
   "language": "python",
   "name": "python3"
  },
  "language_info": {
   "codemirror_mode": {
    "name": "ipython",
    "version": 3
   },
   "file_extension": ".py",
   "mimetype": "text/x-python",
   "name": "python",
   "nbconvert_exporter": "python",
   "pygments_lexer": "ipython3",
   "version": "3.11.9"
  }
 },
 "nbformat": 4,
 "nbformat_minor": 5
}
