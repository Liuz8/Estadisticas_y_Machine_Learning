{
 "cells": [
  {
   "cell_type": "markdown",
   "id": "04af560c",
   "metadata": {},
   "source": [
    "# Bloque 1 - clasificando datos"
   ]
  },
  {
   "cell_type": "markdown",
   "id": "c2caeb4b",
   "metadata": {},
   "source": [
    "Vamos a practicar el contenido que se presentó en la clase a partir de algunas actividades, pero utilizando un conjunto de datos diferente con datos de pacientes a ser diagnosticados con diabetes o no. Los desafíos siguen una secuencia de tareas, sirviendo como un proyecto secundario. Para realizar los desafíos, descarga la base de datos desde este enlace.\n",
    "\n",
    "**1** - Para la construcción de un modelo de machine learning se necesitan datos. Como tarea inicial, realiza la lectura de la base de datos de diabetes y divide los datos en variables explicativas y variable objetivo (x e y). La variable objetivo es la columna que quieres clasificar, que contiene la información de si el paciente tiene o no diabetes. Las variables explicativas son todas las columnas excepto la de diabetes. La separación de los datos se puede hacer con la selección de columnas con ``pandas``.\n",
    "\n",
    "**2** - Una etapa muy importante en proyectos de clasificación es la validación de los modelos, para identificar si hay una generalización del modelo para datos nuevos. Realiza la división de los datos entre entrenamiento, validación y prueba. Utiliza el 5% de los datos para prueba y con el resto, deja el 25% para validación. En el momento de la separación, usa el parámetro ``stratify`` a partir de la variable objetivo para mantener la proporción de los datos.\n",
    "\n",
    "**3** - La etapa de modelado de datos consiste en utilizar un algoritmo capaz de identificar patrones en los datos y clasificar los valores. A partir del modelo es posible extraer una tasa de acierto para entender su desempeño. Crea 2 modelos utilizando los algoritmos [``DecisionTreeClassifier``](https://scikit-learn.org/stable/modules/generated/sklearn.tree.DecisionTreeClassifier.html) y [``RandomForestClassifier``](https://scikit-learn.org/stable/modules/generated/sklearn.ensemble.RandomForestClassifier.html) y evalúa la precisión de entrenamiento y prueba, eligiendo el valor 3 para el parámetro ``max_depth`` del algoritmo ``DecisionTreeClassifier`` y el valor 2 para el ``max_depth`` del algoritmo ``RandomForestClassifier``, para que los modelos no se especialicen demasiado en el patrón de los datos de entrenamiento.\n",
    "\n",
    "**4** - La tasa de acierto generalmente no proporciona información suficiente para entender el comportamiento del modelo. La matriz de confusión es una herramienta más completa, capaz de proporcionar los aciertos y errores del modelo para cada clase. Construye una matriz de confusión para cada uno de los modelos para evaluar el desempeño de la predicción. Para construir la matriz, usa el método ``predict`` para generar las predicciones de los valores y comparar con los valores reales de la base de datos.\n",
    "\n"
   ]
  },
  {
   "cell_type": "markdown",
   "id": "3a846651",
   "metadata": {},
   "source": [
    "## Tarea 1"
   ]
  },
  {
   "cell_type": "code",
   "execution_count": 25,
   "id": "ff87ac37",
   "metadata": {},
   "outputs": [],
   "source": [
    "import pandas as pd"
   ]
  },
  {
   "cell_type": "code",
   "execution_count": 26,
   "id": "1eb2c470",
   "metadata": {},
   "outputs": [],
   "source": [
    "df = pd.read_csv('diabetes.csv')"
   ]
  },
  {
   "cell_type": "code",
   "execution_count": 27,
   "id": "3b1cb725",
   "metadata": {},
   "outputs": [
    {
     "data": {
      "text/html": [
       "<div>\n",
       "<style scoped>\n",
       "    .dataframe tbody tr th:only-of-type {\n",
       "        vertical-align: middle;\n",
       "    }\n",
       "\n",
       "    .dataframe tbody tr th {\n",
       "        vertical-align: top;\n",
       "    }\n",
       "\n",
       "    .dataframe thead th {\n",
       "        text-align: right;\n",
       "    }\n",
       "</style>\n",
       "<table border=\"1\" class=\"dataframe\">\n",
       "  <thead>\n",
       "    <tr style=\"text-align: right;\">\n",
       "      <th></th>\n",
       "      <th>glicemia</th>\n",
       "      <th>presion_sanguinea</th>\n",
       "      <th>grasa_subcutanea_triceps</th>\n",
       "      <th>insulina</th>\n",
       "      <th>imc</th>\n",
       "      <th>diabetes</th>\n",
       "    </tr>\n",
       "  </thead>\n",
       "  <tbody>\n",
       "    <tr>\n",
       "      <th>0</th>\n",
       "      <td>66</td>\n",
       "      <td>23</td>\n",
       "      <td>94</td>\n",
       "      <td>28.1</td>\n",
       "      <td>0.167</td>\n",
       "      <td>0</td>\n",
       "    </tr>\n",
       "    <tr>\n",
       "      <th>1</th>\n",
       "      <td>40</td>\n",
       "      <td>35</td>\n",
       "      <td>168</td>\n",
       "      <td>43.1</td>\n",
       "      <td>2.288</td>\n",
       "      <td>1</td>\n",
       "    </tr>\n",
       "    <tr>\n",
       "      <th>2</th>\n",
       "      <td>50</td>\n",
       "      <td>32</td>\n",
       "      <td>88</td>\n",
       "      <td>31.0</td>\n",
       "      <td>0.248</td>\n",
       "      <td>1</td>\n",
       "    </tr>\n",
       "    <tr>\n",
       "      <th>3</th>\n",
       "      <td>70</td>\n",
       "      <td>45</td>\n",
       "      <td>543</td>\n",
       "      <td>30.5</td>\n",
       "      <td>0.158</td>\n",
       "      <td>1</td>\n",
       "    </tr>\n",
       "    <tr>\n",
       "      <th>4</th>\n",
       "      <td>60</td>\n",
       "      <td>23</td>\n",
       "      <td>846</td>\n",
       "      <td>30.1</td>\n",
       "      <td>0.398</td>\n",
       "      <td>1</td>\n",
       "    </tr>\n",
       "  </tbody>\n",
       "</table>\n",
       "</div>"
      ],
      "text/plain": [
       "   glicemia  presion_sanguinea  grasa_subcutanea_triceps  insulina    imc  \\\n",
       "0        66                 23                        94      28.1  0.167   \n",
       "1        40                 35                       168      43.1  2.288   \n",
       "2        50                 32                        88      31.0  0.248   \n",
       "3        70                 45                       543      30.5  0.158   \n",
       "4        60                 23                       846      30.1  0.398   \n",
       "\n",
       "   diabetes  \n",
       "0         0  \n",
       "1         1  \n",
       "2         1  \n",
       "3         1  \n",
       "4         1  "
      ]
     },
     "execution_count": 27,
     "metadata": {},
     "output_type": "execute_result"
    }
   ],
   "source": [
    "df.head()"
   ]
  },
  {
   "cell_type": "code",
   "execution_count": 28,
   "id": "8707e8ca",
   "metadata": {},
   "outputs": [
    {
     "name": "stdout",
     "output_type": "stream",
     "text": [
      "<class 'pandas.core.frame.DataFrame'>\n",
      "RangeIndex: 394 entries, 0 to 393\n",
      "Data columns (total 6 columns):\n",
      " #   Column                    Non-Null Count  Dtype  \n",
      "---  ------                    --------------  -----  \n",
      " 0   glicemia                  394 non-null    int64  \n",
      " 1   presion_sanguinea         394 non-null    int64  \n",
      " 2   grasa_subcutanea_triceps  394 non-null    int64  \n",
      " 3   insulina                  394 non-null    float64\n",
      " 4   imc                       394 non-null    float64\n",
      " 5   diabetes                  394 non-null    int64  \n",
      "dtypes: float64(2), int64(4)\n",
      "memory usage: 18.6 KB\n"
     ]
    }
   ],
   "source": [
    "df.info()"
   ]
  },
  {
   "cell_type": "code",
   "execution_count": 29,
   "id": "c749aefe",
   "metadata": {},
   "outputs": [],
   "source": [
    "X = df.drop(columns='diabetes',axis=1)\n",
    "y = df.diabetes"
   ]
  },
  {
   "cell_type": "code",
   "execution_count": 30,
   "id": "ea7a5c4a",
   "metadata": {},
   "outputs": [
    {
     "data": {
      "text/html": [
       "<div>\n",
       "<style scoped>\n",
       "    .dataframe tbody tr th:only-of-type {\n",
       "        vertical-align: middle;\n",
       "    }\n",
       "\n",
       "    .dataframe tbody tr th {\n",
       "        vertical-align: top;\n",
       "    }\n",
       "\n",
       "    .dataframe thead th {\n",
       "        text-align: right;\n",
       "    }\n",
       "</style>\n",
       "<table border=\"1\" class=\"dataframe\">\n",
       "  <thead>\n",
       "    <tr style=\"text-align: right;\">\n",
       "      <th></th>\n",
       "      <th>glicemia</th>\n",
       "      <th>presion_sanguinea</th>\n",
       "      <th>grasa_subcutanea_triceps</th>\n",
       "      <th>insulina</th>\n",
       "      <th>imc</th>\n",
       "    </tr>\n",
       "  </thead>\n",
       "  <tbody>\n",
       "    <tr>\n",
       "      <th>0</th>\n",
       "      <td>66</td>\n",
       "      <td>23</td>\n",
       "      <td>94</td>\n",
       "      <td>28.1</td>\n",
       "      <td>0.167</td>\n",
       "    </tr>\n",
       "    <tr>\n",
       "      <th>1</th>\n",
       "      <td>40</td>\n",
       "      <td>35</td>\n",
       "      <td>168</td>\n",
       "      <td>43.1</td>\n",
       "      <td>2.288</td>\n",
       "    </tr>\n",
       "    <tr>\n",
       "      <th>2</th>\n",
       "      <td>50</td>\n",
       "      <td>32</td>\n",
       "      <td>88</td>\n",
       "      <td>31.0</td>\n",
       "      <td>0.248</td>\n",
       "    </tr>\n",
       "    <tr>\n",
       "      <th>3</th>\n",
       "      <td>70</td>\n",
       "      <td>45</td>\n",
       "      <td>543</td>\n",
       "      <td>30.5</td>\n",
       "      <td>0.158</td>\n",
       "    </tr>\n",
       "    <tr>\n",
       "      <th>4</th>\n",
       "      <td>60</td>\n",
       "      <td>23</td>\n",
       "      <td>846</td>\n",
       "      <td>30.1</td>\n",
       "      <td>0.398</td>\n",
       "    </tr>\n",
       "  </tbody>\n",
       "</table>\n",
       "</div>"
      ],
      "text/plain": [
       "   glicemia  presion_sanguinea  grasa_subcutanea_triceps  insulina    imc\n",
       "0        66                 23                        94      28.1  0.167\n",
       "1        40                 35                       168      43.1  2.288\n",
       "2        50                 32                        88      31.0  0.248\n",
       "3        70                 45                       543      30.5  0.158\n",
       "4        60                 23                       846      30.1  0.398"
      ]
     },
     "execution_count": 30,
     "metadata": {},
     "output_type": "execute_result"
    }
   ],
   "source": [
    "X.head()"
   ]
  },
  {
   "cell_type": "code",
   "execution_count": 31,
   "id": "d67f21b1",
   "metadata": {},
   "outputs": [
    {
     "data": {
      "text/plain": [
       "0    0\n",
       "1    1\n",
       "2    1\n",
       "3    1\n",
       "4    1\n",
       "Name: diabetes, dtype: int64"
      ]
     },
     "execution_count": 31,
     "metadata": {},
     "output_type": "execute_result"
    }
   ],
   "source": [
    "y.head()"
   ]
  },
  {
   "cell_type": "markdown",
   "id": "3611ad2e",
   "metadata": {},
   "source": [
    "## Tarea 2"
   ]
  },
  {
   "cell_type": "code",
   "execution_count": 32,
   "id": "dfd0263b",
   "metadata": {},
   "outputs": [],
   "source": [
    "from sklearn.model_selection import train_test_split"
   ]
  },
  {
   "cell_type": "code",
   "execution_count": null,
   "id": "91e4baa0",
   "metadata": {},
   "outputs": [
    {
     "data": {
      "text/plain": [
       "diabetes\n",
       "0    264\n",
       "1    130\n",
       "Name: count, dtype: int64"
      ]
     },
     "execution_count": 34,
     "metadata": {},
     "output_type": "execute_result"
    }
   ],
   "source": [
    "# esto es para saber cuan desproporcionado estan los numeros\n",
    "y.value_counts().sort_index()"
   ]
  },
  {
   "cell_type": "code",
   "execution_count": 35,
   "id": "f9273322",
   "metadata": {},
   "outputs": [],
   "source": [
    "X,X_test,y,y_test = train_test_split(X,y,test_size=0.05,stratify=y,random_state=5)\n",
    "X_train,X_val,y_train,y_val = train_test_split(X,y,stratify=y,random_state=5)"
   ]
  },
  {
   "cell_type": "markdown",
   "id": "ae013698",
   "metadata": {},
   "source": [
    "## Tarea 3"
   ]
  },
  {
   "cell_type": "code",
   "execution_count": 36,
   "id": "9f952cea",
   "metadata": {},
   "outputs": [],
   "source": [
    "from sklearn.tree import DecisionTreeClassifier\n",
    "from sklearn.ensemble import RandomForestClassifier"
   ]
  },
  {
   "cell_type": "code",
   "execution_count": 38,
   "id": "eaeccf73",
   "metadata": {},
   "outputs": [
    {
     "name": "stdout",
     "output_type": "stream",
     "text": [
      "Modelo Tree\n",
      "La exactitud del modelo en entrenamiento es: 0.725\n",
      "La exactitud del modelo en validacion es: 0.8191489361702128\n",
      "\n",
      "\n",
      "Modelo Random Forest\n",
      "La exactitud del modelo en entrenamiento es: 0.7214285714285714\n",
      "La exactitud del modelo en validacion es: 0.7553191489361702\n"
     ]
    }
   ],
   "source": [
    "modeloTree = DecisionTreeClassifier(max_depth=3)\n",
    "modeloRandomForest = RandomForestClassifier(max_depth=2)\n",
    "\n",
    "modeloTree.fit(X,y)\n",
    "modeloRandomForest.fit(X,y)\n",
    "\n",
    "print('Modelo Tree')\n",
    "print(f'La exactitud del modelo en entrenamiento es: {modeloTree.score(X_train,y_train)}')\n",
    "print(f'La exactitud del modelo en validacion es: {modeloTree.score(X_val,y_val)}\\n\\n')\n",
    "print('Modelo Random Forest')\n",
    "print(f'La exactitud del modelo en entrenamiento es: {modeloRandomForest.score(X_train,y_train)}')\n",
    "print(f'La exactitud del modelo en validacion es: {modeloRandomForest.score(X_val,y_val)}')"
   ]
  },
  {
   "cell_type": "markdown",
   "id": "dc2c6a18",
   "metadata": {},
   "source": [
    "## Tarea 4"
   ]
  },
  {
   "cell_type": "code",
   "execution_count": 39,
   "id": "24503dde",
   "metadata": {},
   "outputs": [],
   "source": [
    "from sklearn.metrics import confusion_matrix"
   ]
  },
  {
   "cell_type": "code",
   "execution_count": 40,
   "id": "c148bc20",
   "metadata": {},
   "outputs": [
    {
     "name": "stdout",
     "output_type": "stream",
     "text": [
      "Tree\n",
      "[[60  3]\n",
      " [14 17]]\n",
      "\n",
      "Random Forest\n",
      "[[60  3]\n",
      " [20 11]]\n"
     ]
    }
   ],
   "source": [
    "y_previstoTree = modeloTree.predict(X_val)\n",
    "y_previstoRandomForest = modeloRandomForest.predict(X_val)\n",
    "\n",
    "matriz_confusionTree = confusion_matrix(y_val,y_previstoTree)\n",
    "matriz_confusionRandomForest = confusion_matrix(y_val,y_previstoRandomForest)\n",
    "\n",
    "print('Tree')\n",
    "print(f'{matriz_confusionTree}\\n')\n",
    "print(f'Random Forest')\n",
    "print(matriz_confusionRandomForest)"
   ]
  },
  {
   "cell_type": "code",
   "execution_count": 41,
   "id": "55ca288a",
   "metadata": {},
   "outputs": [],
   "source": [
    "from sklearn.metrics import ConfusionMatrixDisplay"
   ]
  },
  {
   "cell_type": "code",
   "execution_count": 42,
   "id": "bf281e39",
   "metadata": {},
   "outputs": [
    {
     "data": {
      "image/png": "[encoded data removed]",
      "text/plain": [
       "<Figure size 640x480 with 2 Axes>"
      ]
     },
     "metadata": {},
     "output_type": "display_data"
    },
    {
     "data": {
      "image/png": "[encoded data removed]",
      "text/plain": [
       "<Figure size 640x480 with 2 Axes>"
      ]
     },
     "metadata": {},
     "output_type": "display_data"
    }
   ],
   "source": [
    "visualizacionTree = ConfusionMatrixDisplay(confusion_matrix=matriz_confusionTree,display_labels=['Sin diabetes', 'Con diabetes'])\n",
    "visualizacionTree.plot();\n",
    "visualizacionRandomForest = ConfusionMatrixDisplay(confusion_matrix=matriz_confusionRandomForest,display_labels=['Sin diabetes', 'Con diabetes'])\n",
    "visualizacionRandomForest.plot();"
   ]
  },
  {
   "cell_type": "code",
   "execution_count": null,
   "id": "cfd5ca58",
   "metadata": {},
   "outputs": [],
   "source": []
  }
 ],
 "metadata": {
  "language_info": {
   "name": "python"
  }
 },
 "nbformat": 4,
 "nbformat_minor": 5
}
