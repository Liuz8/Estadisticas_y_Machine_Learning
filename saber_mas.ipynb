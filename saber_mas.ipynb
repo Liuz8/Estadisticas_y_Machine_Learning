{
 "cells": [
  {
   "cell_type": "markdown",
   "id": "629f8345",
   "metadata": {},
   "source": [
    "# Bloque 1"
   ]
  },
  {
   "cell_type": "markdown",
   "id": "c5b47277",
   "metadata": {},
   "source": [
    "## El Espacio Schengen"
   ]
  },
  {
   "cell_type": "markdown",
   "id": "2a91721b",
   "metadata": {},
   "source": [
    "El **Espacio Schengen** es un área geográfica que abarca la mayoría de los países europeos, donde se han eliminado los controles fronterizos para permitir la libre circulación de personas entre los países miembros. Esta área recibe su nombre en referencia al Acuerdo de Schengen, firmado en 1985 en la aldea de Schengen, en Luxemburgo, e implementado en 1995.\n",
    "\n",
    "El acuerdo fue nombrado así por el lugar de la firma, pero el tratado Schengen en sí fue un desarrollo del Acuerdo de Schengen de 1990."
   ]
  },
  {
   "cell_type": "markdown",
   "id": "a6111829",
   "metadata": {},
   "source": [
    "![01](img/01.png)"
   ]
  },
  {
   "cell_type": "markdown",
   "id": "acc2beaf",
   "metadata": {},
   "source": [
    "Fuente: Mapa del Espacio Schengen en 2017.\n",
    "\n",
    "Los países que forman parte del Espacio Schengen han abolido los controles fronterizos en las fronteras internas, lo que significa que no es necesario presentar un pasaporte o pasar por verificaciones de inmigración al viajar entre estos países. En las fronteras externas, sin embargo, es más riguroso y común, para garantizar la seguridad y el control de la inmigración.\n",
    "\n",
    "Actualmente, la mayoría de los países de la Unión Europea (UE) forman parte del Espacio Schengen, junto con Noruega, Islandia, Suiza y Liechtenstein, que no son miembros de la UE. Sin embargo, es importante notar que no todos los países de la UE han adherido al Acuerdo de Schengen.\n",
    "\n",
    "La libre circulación dentro del Espacio Schengen facilita los viajes y el comercio entre los países miembros, convirtiéndolo en una parte fundamental de la integración europea y un ejemplo de cooperación transfronteriza en cuestiones de seguridad e inmigración."
   ]
  },
  {
   "cell_type": "markdown",
   "id": "75c6f01e",
   "metadata": {},
   "source": []
  }
 ],
 "metadata": {
  "language_info": {
   "name": "python"
  }
 },
 "nbformat": 4,
 "nbformat_minor": 5
}
