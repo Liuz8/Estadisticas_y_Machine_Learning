{
 "cells": [
  {
   "cell_type": "markdown",
   "id": "6a3fc8bd",
   "metadata": {},
   "source": [
    "# Bloque 1"
   ]
  },
  {
   "cell_type": "markdown",
   "id": "701e7096",
   "metadata": {},
   "source": [
    "Con la biblioteca pandas, podemos leer conjuntos de datos en diferentes formatos y convertirlos en un DataFrame. Para un conjunto de datos en formato CSV, ¿cuál sería la función de pandas para leer estos datos?\n",
    "\n",
    "```python\n",
    ".read_csv()\n",
    "```\n",
    "\n",
    "¡Alternativa correcta! Recuerde anotar el tipo de separador de columna que utiliza el archivo CSV. Por defecto, la función read_csv() usa el parámetro sep=','. Si el separador es cualquier carácter que no sea la coma, necesitaremos informar esto para la función, por ejemplo: read_csv('data.csv', sep =';'))."
   ]
  },
  {
   "cell_type": "code",
   "execution_count": null,
   "id": "eca2715b",
   "metadata": {},
   "outputs": [],
   "source": []
  }
 ],
 "metadata": {
  "language_info": {
   "name": "python"
  }
 },
 "nbformat": 4,
 "nbformat_minor": 5
}
