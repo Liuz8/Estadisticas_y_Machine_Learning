{
 "cells": [
  {
   "cell_type": "markdown",
   "id": "6de80dbc",
   "metadata": {},
   "source": [
    "# Bloque 1 - Clasificando datos"
   ]
  },
  {
   "cell_type": "markdown",
   "id": "90ce19f7",
   "metadata": {},
   "source": [
    "## Utilidad del metodo score"
   ]
  },
  {
   "cell_type": "markdown",
   "id": "45743072",
   "metadata": {},
   "source": [
    "Durante la construcción de un modelo para clasificar transacciones bancarias como legítimas o fraudulentas, una persona científica de datos utilizó la biblioteca Scikit-Learn, que ofrece diversos algoritmos de machine learning que pueden ser utilizados para la clasificación de datos. En cada uno de estos algoritmos, el método ``fit()`` se utiliza para entrenar un modelo a partir de las variables explicativas y la variable respuesta.\n",
    "\n",
    "Sin embargo, después del entrenamiento del modelo, se realiza un paso más mediante el uso del método ``score()``. Seleccione la alternativa que describe de manera adecuada la finalidad de usar el ``score()`` en este contexto:\n",
    "\n",
    "**Se utiliza para evaluar el desempeño del modelo ajustado.**\n",
    "\n",
    "El método ``score()`` tiene la finalidad de comparar las predicciones realizadas por el modelo con los valores reales de los datos y calcula una tasa de acierto en porcentaje llamada exactitud."
   ]
  }
 ],
 "metadata": {
  "language_info": {
   "name": "python"
  }
 },
 "nbformat": 4,
 "nbformat_minor": 5
}
